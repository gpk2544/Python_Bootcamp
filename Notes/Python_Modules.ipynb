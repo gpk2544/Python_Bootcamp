{
  "cells": [
    {
      "cell_type": "markdown",
      "metadata": {
        "id": "qFb-TYYrd5XK"
      },
      "source": [
        "# NumPy"
      ]
    },
    {
      "cell_type": "markdown",
      "metadata": {
        "id": "JfhhLZ2Zd36H"
      },
      "source": [
        "NumPy (Numerical Python) is a powerful library in Python used for numerical and scientific computing. It provides support for large, multi-dimensional arrays and matrices, along with a collection of mathematical functions to operate on these arrays efficiently. NumPy arrays are more efficient than Python lists for numerical operations because they are stored in contiguous memory blocks, allowing for fast processing."
      ]
    },
    {
      "cell_type": "code",
      "execution_count": null,
      "metadata": {
        "colab": {
          "base_uri": "https://localhost:8080/"
        },
        "id": "vpaVfQCGlAQq",
        "outputId": "7549c2a8-9dd9-4b99-b1b7-8b9902268896"
      },
      "outputs": [
        {
          "name": "stdout",
          "output_type": "stream",
          "text": [
            "0D Array: 42 Dimensions: 0\n",
            "1D Array: [1 2 3] Dimensions: 1\n",
            "2D Array: [[1 2 3]\n",
            " [4 5 6]] Dimensions: 2\n",
            "3D Array: [[[ 1  2  3]\n",
            "  [ 4  5  6]]\n",
            "\n",
            " [[ 7  8  9]\n",
            "  [10 11 12]]] Dimensions: 3\n"
          ]
        }
      ],
      "source": [
        "import numpy as np\n",
        "\n",
        "# 1. Creating an Array\n",
        "\n",
        "\n",
        "# 0D array (scalar)\n",
        "array_0d = np.array(42)\n",
        "print(\"0D Array:\", array_0d, \"Dimensions:\", array_0d.ndim)\n",
        "\n",
        "# 1D array\n",
        "array_1d = np.array([1, 2, 3])\n",
        "print(\"1D Array:\", array_1d, \"Dimensions:\", array_1d.ndim)\n",
        "\n",
        "# 2D array\n",
        "array = np.array([[1, 2, 3], [4, 5, 6]])\n",
        "print(\"2D Array:\", array, \"Dimensions:\", array.ndim)\n",
        "\n",
        "# 3D array\n",
        "array_3d = np.array([[[1, 2, 3], [4, 5, 6]], [[7, 8, 9], [10, 11, 12]]])\n",
        "print(\"3D Array:\", array_3d, \"Dimensions:\", array_3d.ndim)\n"
      ]
    },
    {
      "cell_type": "markdown",
      "metadata": {
        "id": "HgtIZGqU32oL"
      },
      "source": [
        "Addition of array"
      ]
    },
    {
      "cell_type": "code",
      "execution_count": null,
      "metadata": {
        "colab": {
          "base_uri": "https://localhost:8080/"
        },
        "id": "o4hR7czw34K_",
        "outputId": "88004eb2-f0c8-48e3-d8b9-cfde02d78a36"
      },
      "outputs": [
        {
          "name": "stdout",
          "output_type": "stream",
          "text": [
            "Sum using np.sum(): 15\n",
            "Sum using array.sum(): 15\n"
          ]
        }
      ],
      "source": [
        "\n",
        "# Create a NumPy array\n",
        "array = np.array([1, 2, 3, 4, 5])\n",
        "\n",
        "# Using np.sum()\n",
        "total_sum_function = np.sum(array)\n",
        "print(\"Sum using np.sum():\", total_sum_function)\n",
        "\n",
        "# Using array.sum()\n",
        "total_sum_method = array.sum()\n",
        "print(\"Sum using array.sum():\", total_sum_method)\n"
      ]
    },
    {
      "cell_type": "markdown",
      "metadata": {
        "id": "Pc6bSQpB4W_4"
      },
      "source": [
        "Generating simple values"
      ]
    },
    {
      "cell_type": "code",
      "execution_count": null,
      "metadata": {
        "colab": {
          "base_uri": "https://localhost:8080/"
        },
        "id": "FVKHQ3fG4XTf",
        "outputId": "4a2a7925-8169-41a0-e2d8-3dd30a44c91a"
      },
      "outputs": [
        {
          "name": "stdout",
          "output_type": "stream",
          "text": [
            "[0 2 4 6 8]\n"
          ]
        }
      ],
      "source": [
        "# Create an array from 0 to 10 with a step of 2\n",
        "array = np.arange(0, 10,2)\n",
        "print(array)"
      ]
    },
    {
      "cell_type": "code",
      "execution_count": null,
      "metadata": {
        "colab": {
          "base_uri": "https://localhost:8080/"
        },
        "id": "9K6C24E5lDnQ",
        "outputId": "07b384be-17af-40d7-a0b0-18ce7fa1120d"
      },
      "outputs": [
        {
          "name": "stdout",
          "output_type": "stream",
          "text": [
            "1\n",
            "9\n"
          ]
        }
      ],
      "source": [
        "array= np.array([[1, 2, 3], [4, 5, 6], [7, 8, 9]])\n",
        "# 2. Array Indexing\n",
        "# Basic indexing\n",
        "print(array[0, 0])  # Output: 1\n",
        "print(array[2, -1]) # Output: 9\n",
        "\n"
      ]
    },
    {
      "cell_type": "code",
      "execution_count": null,
      "metadata": {
        "colab": {
          "base_uri": "https://localhost:8080/"
        },
        "id": "rvzfkt7zlGYO",
        "outputId": "c4c87340-6863-40fe-d08d-8fb46cca0fb2"
      },
      "outputs": [
        {
          "name": "stdout",
          "output_type": "stream",
          "text": [
            "[2 3 4]\n"
          ]
        }
      ],
      "source": [
        "\n",
        "# 3. Array Slicing\n",
        "array = np.array([0,1, 2, 3, 4, 5, 6, 7, 8, 9])\n",
        "\n",
        "# Slice the array from index 2 to index 5 (exclusive)\n",
        "sliced_array = array[2:5]\n",
        "\n",
        "print(sliced_array)  # Output: [2 3 4]"
      ]
    },
    {
      "cell_type": "code",
      "execution_count": null,
      "metadata": {
        "colab": {
          "base_uri": "https://localhost:8080/"
        },
        "id": "G2_Yhjh3lInH",
        "outputId": "7779a1bf-bed2-4cc4-82cd-7bfeaa60ad0e"
      },
      "outputs": [
        {
          "name": "stdout",
          "output_type": "stream",
          "text": [
            "Data Type (int_arr): int64\n",
            "[1 2 3]\n"
          ]
        }
      ],
      "source": [
        "# 4. Data Types\n",
        "int_arr = np.array([1, 2, 3], dtype='int')\n",
        "print(\"Data Type (int_arr):\", int_arr.dtype)\n",
        "print(int_arr)"
      ]
    },
    {
      "cell_type": "code",
      "execution_count": null,
      "metadata": {
        "colab": {
          "base_uri": "https://localhost:8080/"
        },
        "id": "SSCCM_PPlNhq",
        "outputId": "532fb643-f7bc-4130-e470-4a093b98d7b7"
      },
      "outputs": [
        {
          "name": "stdout",
          "output_type": "stream",
          "text": [
            "Array Copy: [100   1   2   3   4   5   6   7]\n",
            "Original Array after Copy: [0 1 2 3 4 5 6 7]\n",
            "Array View: [100   1   2   3   4   5   6   7]\n",
            "Original Array after View: [100   1   2   3   4   5   6   7]\n"
          ]
        }
      ],
      "source": [
        "arr = np.array([0,1,2,3,4,5,6,7])\n",
        "# 5. Copy vs View\n",
        "arr_copy = arr.copy()\n",
        "arr_copy[0] = 100\n",
        "print(\"Array Copy:\", arr_copy)\n",
        "print(\"Original Array after Copy:\", arr)\n",
        "\n",
        "arr_view = arr.view()\n",
        "arr_view[0] = 100\n",
        "print(\"Array View:\", arr_view)\n",
        "print(\"Original Array after View:\", arr)\n"
      ]
    },
    {
      "cell_type": "code",
      "execution_count": null,
      "metadata": {
        "colab": {
          "background_save": true,
          "base_uri": "https://localhost:8080/"
        },
        "id": "6TMUDqMslSQV",
        "outputId": "7c24dad7-ad67-4e55-bd52-9c0221af6504"
      },
      "outputs": [
        {
          "name": "stdout",
          "output_type": "stream",
          "text": [
            "2D Array Shape: (2, 3)\n",
            "Reshaped Array:\n",
            " [[1]\n",
            " [2]\n",
            " [3]\n",
            " [4]\n",
            " [5]\n",
            " [6]]\n"
          ]
        }
      ],
      "source": [
        "\n",
        "# 6. Array Shape\n",
        "arr_2d = np.array([[1, 2, 3], [4, 5, 6]])\n",
        "print(\"2D Array Shape:\", arr_2d.shape)\n",
        "\n",
        "# 7. Array Reshape\n",
        "reshaped_arr = arr_2d.reshape(6, 1)\n",
        "print(\"Reshaped Array:\\n\", reshaped_arr)\n"
      ]
    },
    {
      "cell_type": "code",
      "execution_count": null,
      "metadata": {
        "colab": {
          "base_uri": "https://localhost:8080/"
        },
        "id": "OYtU_biNmeZi",
        "outputId": "7675823f-64d9-4ff2-c433-654337e3e52a"
      },
      "outputs": [
        {
          "name": "stdout",
          "output_type": "stream",
          "text": [
            "Iterating through array:\n",
            "100\n",
            "1\n",
            "2\n",
            "3\n",
            "4\n",
            "5\n",
            "6\n",
            "7\n"
          ]
        }
      ],
      "source": [
        "\n",
        "# 8. Array Iterating\n",
        "print(\"Iterating through array:\")\n",
        "for x in arr:\n",
        "    print(x)"
      ]
    },
    {
      "cell_type": "code",
      "execution_count": null,
      "metadata": {
        "colab": {
          "base_uri": "https://localhost:8080/"
        },
        "id": "lxCIvkidmgT2",
        "outputId": "760ead8e-7533-44eb-e534-41c6bd358b60"
      },
      "outputs": [
        {
          "name": "stdout",
          "output_type": "stream",
          "text": [
            "Joined Array: [1 2 3 4]\n"
          ]
        }
      ],
      "source": [
        "\n",
        "# 9. Array Join\n",
        "arr1 = np.array([1, 2])\n",
        "arr2 = np.array([3, 4])\n",
        "joined_arr = np.concatenate((arr1, arr2))\n",
        "print(\"Joined Array:\", joined_arr)\n"
      ]
    },
    {
      "cell_type": "code",
      "execution_count": null,
      "metadata": {
        "colab": {
          "base_uri": "https://localhost:8080/"
        },
        "id": "xlewx5ohmihN",
        "outputId": "311c0fd2-ad5b-4044-9e78-9e63647f6bb5"
      },
      "outputs": [
        {
          "name": "stdout",
          "output_type": "stream",
          "text": [
            "Splitted Arrays: [array([100,   1,   2,   3]), array([4, 5, 6, 7])]\n"
          ]
        }
      ],
      "source": [
        "\n",
        "# 10. Array Split\n",
        "splitted_arr = np.array_split(arr, 2)\n",
        "print(\"Splitted Arrays:\", splitted_arr)\n"
      ]
    },
    {
      "cell_type": "code",
      "execution_count": null,
      "metadata": {
        "colab": {
          "base_uri": "https://localhost:8080/"
        },
        "id": "qeABDzm0mkwR",
        "outputId": "cb96de33-cb1f-4a6c-e38f-f47ca6bfaacc"
      },
      "outputs": [
        {
          "name": "stdout",
          "output_type": "stream",
          "text": [
            "Sorted Array:[1 2 3]\n"
          ]
        }
      ],
      "source": [
        "\n",
        "# 11. Array Sort\n",
        "unsorted_arr = np.array([3, 1, 2])\n",
        "sorted_arr = np.sort(unsorted_arr)\n",
        "print(f\"Sorted Array:{sorted_arr}\")"
      ]
    },
    {
      "cell_type": "code",
      "execution_count": null,
      "metadata": {
        "colab": {
          "base_uri": "https://localhost:8080/"
        },
        "id": "yQUshjWTa6l3",
        "outputId": "1b6f3e1e-61cd-4f4d-a3af-19547732a7a3"
      },
      "outputs": [
        {
          "name": "stdout",
          "output_type": "stream",
          "text": [
            "Filtered Array (values > 2): [100   3   4   5   6   7]\n"
          ]
        }
      ],
      "source": [
        "\n",
        "# 12. Array Filter\n",
        "filter_arr = arr[arr > 2]\n",
        "print(\"Filtered Array (values > 2):\", filter_arr)\n"
      ]
    },
    {
      "cell_type": "markdown",
      "metadata": {
        "id": "ArhazK7ynGzp"
      },
      "source": [
        "Explanation of Statistical Values:\n",
        "\n",
        "Mean: The average of the data.\n",
        "\n",
        "Median: The middle value when data is ordered.\n",
        "\n",
        "\n",
        "Standard Deviation: Measure of how spread out the data is.\n",
        "\n",
        "Variance: The square of the standard deviation.\n",
        "\n",
        "Min/Max: The smallest/largest value in the data.\n",
        "\n",
        "Range: The difference between the max and min.\n",
        "\n",
        "Q1/Q3: 25th and 75th percentiles (used to measure spread).\n",
        "\n",
        "IQR: The range between Q1 and Q3 (a measure of variability)."
      ]
    },
    {
      "cell_type": "code",
      "execution_count": null,
      "metadata": {
        "colab": {
          "base_uri": "https://localhost:8080/"
        },
        "id": "NI-KfLUYnHrU",
        "outputId": "22b88ffe-58bf-45b9-bcac-0a4eeb9a7651"
      },
      "outputs": [
        {
          "name": "stdout",
          "output_type": "stream",
          "text": [
            "Mean: 14.2\n",
            "Median: 14.0\n",
            "Standard Deviation: 2.08806130178211\n",
            "Variance: 4.36\n",
            "Min: 12\n",
            "Max: 19\n",
            "Q1 (25th percentile): 12.25\n",
            "Q3 (75th percentile): 15.0\n",
            "IQR (Interquartile Range): 2.75\n"
          ]
        }
      ],
      "source": [
        "import numpy as np\n",
        "\n",
        "# Example dataset\n",
        "data = np.array([12, 15, 12, 14, 19, 12, 14, 13, 15, 16])\n",
        "\n",
        "# Calculating statistical values\n",
        "mean = np.mean(data)\n",
        "median = np.median(data)\n",
        "std_dev = np.std(data)\n",
        "variance = np.var(data)\n",
        "min_val = np.min(data)\n",
        "max_val = np.max(data)\n",
        "q1 = np.percentile(data, 25)\n",
        "q3 = np.percentile(data, 75)\n",
        "iqr = q3 - q1  # Interquartile range\n",
        "\n",
        "# Printing results\n",
        "print(f\"Mean: {mean}\")\n",
        "print(f\"Median: {median}\")\n",
        "print(f\"Standard Deviation: {std_dev}\")\n",
        "print(f\"Variance: {variance}\")\n",
        "print(f\"Min: {min_val}\")\n",
        "print(f\"Max: {max_val}\")\n",
        "print(f\"Q1 (25th percentile): {q1}\")\n",
        "print(f\"Q3 (75th percentile): {q3}\")\n",
        "print(f\"IQR (Interquartile Range): {iqr}\")\n"
      ]
    },
    {
      "cell_type": "markdown",
      "metadata": {
        "id": "C-pVEZQ6m4QX"
      },
      "source": [
        "# Pandas"
      ]
    },
    {
      "cell_type": "markdown",
      "metadata": {
        "id": "tAGKDvxdpU12"
      },
      "source": [
        "Pandas is a popular Python library used for data manipulation and analysis. It provides data structures like DataFrames and Series, which make it easy to handle and analyze structured data. With Pandas, you can perform a wide range of data operations, such as filtering, grouping, and merging, efficiently and intuitively. It's a go-to tool for data scientists and analysts working with Python.\n",
        "\n",
        "Series: 1-Dimensional data structure in pandas.\n",
        "\n",
        "DataFrames: A DataFrame is a 2-dimensional labeled data structure in Pandas, similar to a table in SQL or Excel. It allows for easy manipulation and analysis of data.\n",
        "\n",
        "\n",
        "CSV: CSV (Comma Separated Values) is a simple file format used to store tabular data. Each line in a CSV file corresponds to a row in the table, and each field is separated by a comma.\n",
        "\n",
        "\n",
        "Reading CSV in Pandas: To read a CSV file in Pandas, you can use the read_csv() function, which loads the data into a DataFrame.\n",
        "\n",
        "\n",
        "Data Analysis: With Pandas, you can easily analyze data using methods like head(), describe(), and info() to inspect the data structure and summary statistics."
      ]
    },
    {
      "cell_type": "code",
      "execution_count": null,
      "metadata": {
        "colab": {
          "background_save": true,
          "base_uri": "https://localhost:8080/"
        },
        "id": "CFm0hw23m7gY",
        "outputId": "d21e557c-613d-445b-dd59-16c87dd775f8"
      },
      "outputs": [
        {
          "name": "stdout",
          "output_type": "stream",
          "text": [
            "Series:\n",
            "a    10\n",
            "b    20\n",
            "c    30\n",
            "d    40\n",
            "dtype: int64\n",
            "\n",
            "DataFrame:\n",
            "      Name  Age         City\n",
            "0    Alice   25     New York\n",
            "1      Bob   30  Los Angeles\n",
            "2  Charlie   35      Chicago\n",
            "3    David   40      Houston\n"
          ]
        }
      ],
      "source": [
        "import pandas as pd\n",
        "\n",
        "# Example of a Series\n",
        "data_series = pd.Series([10, 20, 30, 40], index=['a', 'b', 'c', 'd'])\n",
        "print(\"Series:\")\n",
        "print(data_series)\n",
        "\n",
        "# Example of a DataFrame\n",
        "data_frame = pd.DataFrame({\n",
        "    'Name': ['Alice', 'Bob', 'Charlie', 'David'],\n",
        "    'Age': [25, 30, 35, 40],\n",
        "    'City': ['New York', 'Los Angeles', 'Chicago', 'Houston']\n",
        "})\n",
        "print(\"\\nDataFrame:\")\n",
        "print(data_frame)"
      ]
    },
    {
      "cell_type": "markdown",
      "metadata": {
        "id": "erEV4ryXm8I6"
      },
      "source": [
        "Dataset used:\n",
        "https://www.kaggle.com/datasets/arshid/iris-flower-dataset?resource=download"
      ]
    },
    {
      "cell_type": "code",
      "execution_count": null,
      "metadata": {
        "id": "mbG86QZBqqHf"
      },
      "outputs": [],
      "source": [
        "data = pd.read_csv(\"/content/iris.data.csv\")"
      ]
    },
    {
      "cell_type": "code",
      "execution_count": null,
      "metadata": {
        "colab": {
          "base_uri": "https://localhost:8080/"
        },
        "id": "4l3uzSTbq3Zx",
        "outputId": "b279f309-3329-47c0-d29a-6133dbefb7be"
      },
      "outputs": [
        {
          "name": "stdout",
          "output_type": "stream",
          "text": [
            "First 5 rows of the DataFrame:\n",
            "   sepal_length  sepal_width  petal_length  petal_width      species\n",
            "0           5.1          3.5           1.4          0.2  Iris-setosa\n",
            "1           4.9          3.0           1.4          0.2  Iris-setosa\n",
            "2           4.7          3.2           1.3          0.2  Iris-setosa\n",
            "3           4.6          3.1           1.5          0.2  Iris-setosa\n",
            "4           5.0          3.6           1.4          0.2  Iris-setosa\n",
            "Last 5 rows of the DataFrame:\n",
            "     sepal_length  sepal_width  petal_length  petal_width         species\n",
            "145           6.7          3.0           5.2          2.3  Iris-virginica\n",
            "146           6.3          2.5           5.0          1.9  Iris-virginica\n",
            "147           6.5          3.0           5.2          2.0  Iris-virginica\n",
            "148           6.2          3.4           5.4          2.3  Iris-virginica\n",
            "149           5.9          3.0           5.1          1.8  Iris-virginica\n"
          ]
        }
      ],
      "source": [
        "print(\"First 5 rows of the DataFrame:\")\n",
        "print(data.head())\n",
        "\n",
        "print(\"Last 5 rows of the DataFrame:\")\n",
        "print(data.tail())"
      ]
    },
    {
      "cell_type": "code",
      "execution_count": null,
      "metadata": {
        "colab": {
          "base_uri": "https://localhost:8080/"
        },
        "id": "y_pCdGATrL2y",
        "outputId": "4bfdbd11-3184-4fdc-e4b7-a105a3445f37"
      },
      "outputs": [
        {
          "name": "stdout",
          "output_type": "stream",
          "text": [
            "\n",
            "Summary statistics:\n",
            "              5.1         3.5         1.4         0.2\n",
            "count  149.000000  149.000000  149.000000  149.000000\n",
            "mean     5.848322    3.051007    3.774497    1.205369\n",
            "std      0.828594    0.433499    1.759651    0.761292\n",
            "min      4.300000    2.000000    1.000000    0.100000\n",
            "25%      5.100000    2.800000    1.600000    0.300000\n",
            "50%      5.800000    3.000000    4.400000    1.300000\n",
            "75%      6.400000    3.300000    5.100000    1.800000\n",
            "max      7.900000    4.400000    6.900000    2.500000\n"
          ]
        }
      ],
      "source": [
        "#Getting a summary of the DataFrame (statistical analysis)\n",
        "print(\"\\nSummary statistics:\")\n",
        "print(data.describe())"
      ]
    },
    {
      "cell_type": "code",
      "execution_count": null,
      "metadata": {
        "colab": {
          "base_uri": "https://localhost:8080/"
        },
        "id": "H1YihAfirTgD",
        "outputId": "3e50ee5a-7c32-4ab1-941c-fe0b91d322c4"
      },
      "outputs": [
        {
          "name": "stdout",
          "output_type": "stream",
          "text": [
            "\n",
            "Data structure information:\n",
            "<class 'pandas.core.frame.DataFrame'>\n",
            "RangeIndex: 149 entries, 0 to 148\n",
            "Data columns (total 5 columns):\n",
            " #   Column       Non-Null Count  Dtype  \n",
            "---  ------       --------------  -----  \n",
            " 0   5.1          149 non-null    float64\n",
            " 1   3.5          149 non-null    float64\n",
            " 2   1.4          149 non-null    float64\n",
            " 3   0.2          149 non-null    float64\n",
            " 4   Iris-setosa  149 non-null    object \n",
            "dtypes: float64(4), object(1)\n",
            "memory usage: 5.9+ KB\n",
            "None\n"
          ]
        }
      ],
      "source": [
        "print(\"\\nData structure information:\")\n",
        "print(data.info())"
      ]
    },
    {
      "cell_type": "markdown",
      "metadata": {
        "id": "amC3agd2rfZ4"
      },
      "source": [
        "Data Preprocessing in Pandas\n",
        "\n",
        "1. Handling Missing Values\n",
        "Missing data is common in datasets and can affect analysis or model accuracy.\n",
        "Pandas provides several ways to handle missing values:\n",
        "Detect missing values using isnull() or notnull().\n",
        "Fill missing values with a specified value using fillna().\n",
        "Drop rows or columns with missing values using dropna().\n",
        "\n",
        "2. Converting Data Types\n",
        "Data types need to be consistent for accurate processing (e.g., integers, floats, strings, etc.).\n",
        "Use pd.to_numeric() to convert to numeric types and handle non-convertible data with errors='coerce' (converts invalid parsing to NaN).\n",
        "Use pd.to_datetime() to convert strings to datetime format for easier time-based analysis.\n",
        "\n",
        "3. Renaming Columns\n",
        "Column names can be renamed for clarity or consistency.\n",
        "Use rename() to change column names one by one or for multiple columns.\n",
        "You can also apply transformations to all column names, such as converting them to lowercase.\n",
        "\n",
        "4. Dropping Unnecessary Columns\n",
        "Often, datasets contain columns that aren't required for analysis.\n",
        "Use drop() to remove irrelevant or redundant columns."
      ]
    },
    {
      "cell_type": "code",
      "execution_count": null,
      "metadata": {
        "colab": {
          "base_uri": "https://localhost:8080/"
        },
        "id": "gv4r74uzr706",
        "outputId": "0f2c20b4-639e-44ab-9184-fc392bbdb22c"
      },
      "outputs": [
        {
          "name": "stdout",
          "output_type": "stream",
          "text": [
            "      Name   Age  Height(cm)  Gender Date_of_Birth\n",
            "0    Luffy    25       175.0    Male    1997-01-05\n",
            "1     Zoro    32       160.0  Female    1991-05-12\n",
            "2     None  None       170.0    Male    2000-07-21\n",
            "3  Chopper    40         NaN    None    1983-11-23\n",
            "4    Sanji    29       168.0  Female    1995-08-15\n"
          ]
        }
      ],
      "source": [
        "\n",
        "# Sample dataset\n",
        "data = {\n",
        "    'Name': ['Luffy', 'Zoro', None, 'Chopper', 'Sanji'],\n",
        "    'Age': ['25', '32', None, '40', '29'],\n",
        "    'Height(cm)': [175, 160, 170, None, 168],\n",
        "    'Gender': ['Male', 'Female', 'Male', None, 'Female'],\n",
        "    'Date_of_Birth': ['1997-01-05', '1991-05-12', '2000-07-21', '1983-11-23', '1995-08-15']\n",
        "}\n",
        "\n",
        "df = pd.DataFrame(data)\n",
        "print(df)\n"
      ]
    },
    {
      "cell_type": "code",
      "execution_count": null,
      "metadata": {
        "colab": {
          "base_uri": "https://localhost:8080/"
        },
        "id": "Vc1PB40urfJe",
        "outputId": "43c12852-a1c2-4f0e-8f78-d28b0767b307"
      },
      "outputs": [
        {
          "name": "stdout",
          "output_type": "stream",
          "text": [
            "    Name   Age  Height_in_cm        DOB\n",
            "0  Luffy  25.0         175.0 1997-01-05\n",
            "1   Zoro  32.0         160.0 1991-05-12\n",
            "4  Sanji  29.0         168.0 1995-08-15\n"
          ]
        }
      ],
      "source": [
        "\n",
        "# 1. Handling missing values\n",
        "df['Age'] = pd.to_numeric(df['Age'], errors='coerce')  # Convert 'Age' to numeric, invalid values become NaN\n",
        "df['Height(cm)'].fillna(df['Height(cm)'].mean(), inplace=True)  # Fill missing 'Height' with column mean\n",
        "df.dropna(subset=['Name', 'Gender'], inplace=True)  # Drop rows where 'Name' or 'Gender' is missing\n",
        "\n",
        "# 2. Converting Data Types\n",
        "df['Date_of_Birth'] = pd.to_datetime(df['Date_of_Birth'])  # Convert 'Date_of_Birth' to datetime format\n",
        "\n",
        "# 3. Renaming columns\n",
        "df.rename(columns={'Height(cm)': 'Height_in_cm', 'Date_of_Birth': 'DOB'}, inplace=True)  # Rename columns\n",
        "\n",
        "# 4. Dropping unnecessary columns\n",
        "df.drop(['Gender'], axis=1, inplace=True)  # Drop the 'Gender' column\n",
        "\n",
        "# Display the cleaned dataframe\n",
        "print(df)\n"
      ]
    },
    {
      "cell_type": "markdown",
      "metadata": {
        "id": "In5PoM0HsvKW"
      },
      "source": [
        "#Matplotlib"
      ]
    },
    {
      "cell_type": "markdown",
      "metadata": {
        "id": "KO_SQ3QFszIH"
      },
      "source": [
        "Matplotlib is a versatile plotting library for Python, designed to create a wide range of static, animated, and interactive visualizations. It supports various plot types such as line, bar, scatter, and histogram plots, making it a powerful tool for data analysis and visualization. Matplotlib is known for its ability to produce high-quality figures suitable for publication and its seamless integration with other scientific libraries like NumPy and pandas."
      ]
    },
    {
      "cell_type": "code",
      "execution_count": null,
      "metadata": {
        "id": "ZxRJqQKFs_Vn"
      },
      "outputs": [],
      "source": [
        "import matplotlib.pyplot as plt"
      ]
    },
    {
      "cell_type": "markdown",
      "metadata": {
        "id": "0dQguJoZtOM2"
      },
      "source": [
        "**Simple Plotting**"
      ]
    },
    {
      "cell_type": "code",
      "execution_count": null,
      "metadata": {
        "colab": {
          "base_uri": "https://localhost:8080/",
          "height": 430
        },
        "id": "3wnJ2fTWtOtD",
        "outputId": "ad502b61-d34b-49bf-f403-c9d98b755466"
      },
      "outputs": [
        {
          "data": {
            "image/png": "[encoded data removed]",
            "text/plain": [
              "<Figure size 640x480 with 1 Axes>"
            ]
          },
          "metadata": {},
          "output_type": "display_data"
        }
      ],
      "source": [
        "x = [1,4]\n",
        "y = [1,4]\n",
        "plt.plot(x,y)\n",
        "plt.show()"
      ]
    },
    {
      "cell_type": "markdown",
      "metadata": {
        "id": "o74fau70vC1a"
      },
      "source": [
        "Marker\n",
        "Below marker are availble in pyplot:\n",
        "\n",
        "'o'\tCircle\n",
        "\n",
        "'*'\tStar\n",
        "'.'\tPoint\n",
        "','\tPixel\n",
        "'x'\tX\n",
        "'X'\tX (filled)\n",
        "'+'\tPlus\n",
        "'P'\tPlus (filled)\n",
        "'s'\tSquare\n",
        "'D'\tDiamond\n",
        "'d'\tDiamond (thin)\n",
        "'p'\tPentagon\n",
        "'H'\tHexagon\n",
        "'h'\tHexagon\n",
        "'v'\tTriangle Down\n",
        "'^'\tTriangle Up\n",
        "'<'\tTriangle Left\n",
        "'>'\tTriangle Right\n",
        "'1'\tTri Down\n",
        "'2'\tTri Up\n",
        "'3'\tTri Left\n",
        "'4'\tTri Right\n",
        "'|'\tVline\n",
        "'_'\tHline"
      ]
    },
    {
      "cell_type": "code",
      "execution_count": null,
      "metadata": {
        "colab": {
          "base_uri": "https://localhost:8080/",
          "height": 447
        },
        "id": "mc1f5WdDuqOn",
        "outputId": "f9b6b296-ee0c-43df-e312-11787adaabe2"
      },
      "outputs": [
        {
          "data": {
            "text/plain": [
              "[<matplotlib.lines.Line2D at 0x7b2ed4c81480>]"
            ]
          },
          "execution_count": 32,
          "metadata": {},
          "output_type": "execute_result"
        },
        {
          "data": {
            "image/png": "[encoded data removed]",
            "text/plain": [
              "<Figure size 640x480 with 1 Axes>"
            ]
          },
          "metadata": {},
          "output_type": "display_data"
        }
      ],
      "source": [
        "#Marker\n",
        "x = [1,2,3,4,5]\n",
        "y = [2,4,6,8,10]\n",
        "plt.plot(x,y,marker = 'P')"
      ]
    },
    {
      "cell_type": "markdown",
      "metadata": {
        "id": "Q2ljc70YvTbW"
      },
      "source": [
        "LineStyle\n",
        "'solid' (default)\t'-'\n",
        "'dotted'\t':'\n",
        "'dashed'\t'--'\n",
        "'dashdot'\t'-.'\n",
        "'None'"
      ]
    },
    {
      "cell_type": "code",
      "execution_count": null,
      "metadata": {
        "colab": {
          "base_uri": "https://localhost:8080/",
          "height": 447
        },
        "id": "PnX6SFw2u6xk",
        "outputId": "4a1be858-eeda-4b3a-85b3-7daede5d7be5"
      },
      "outputs": [
        {
          "data": {
            "text/plain": [
              "[<matplotlib.lines.Line2D at 0x7b2ed4a49150>]"
            ]
          },
          "execution_count": 33,
          "metadata": {},
          "output_type": "execute_result"
        },
        {
          "data": {
            "image/png": "[encoded data removed]",
            "text/plain": [
              "<Figure size 640x480 with 1 Axes>"
            ]
          },
          "metadata": {},
          "output_type": "display_data"
        }
      ],
      "source": [
        "#Marker\n",
        "x = [1,2,3,4,5]\n",
        "y = [2,4,6,8,10]\n",
        "plt.plot(x,y,ls = '-.')"
      ]
    },
    {
      "cell_type": "code",
      "execution_count": null,
      "metadata": {
        "colab": {
          "base_uri": "https://localhost:8080/",
          "height": 466
        },
        "id": "QmE1S7Wtv1E8",
        "outputId": "5e34f8f5-5c61-4613-fcec-05e315e4e46a"
      },
      "outputs": [
        {
          "data": {
            "text/plain": [
              "[<matplotlib.lines.Line2D at 0x7c914ec0ebf0>]"
            ]
          },
          "execution_count": 41,
          "metadata": {},
          "output_type": "execute_result"
        },
        {
          "data": {
            "image/png": "[encoded data removed]",
            "text/plain": [
              "<Figure size 640x480 with 1 Axes>"
            ]
          },
          "metadata": {},
          "output_type": "display_data"
        }
      ],
      "source": [
        "plt.xlabel(\"Haki\")\n",
        "plt.ylabel(\"Practise\")\n",
        "plt.grid()\n",
        "plt.plot(x,y,ls = '-.',marker='o')"
      ]
    },
    {
      "cell_type": "markdown",
      "metadata": {
        "id": "PSAP7f4Lwaqf"
      },
      "source": [
        "Subplots"
      ]
    },
    {
      "cell_type": "code",
      "execution_count": null,
      "metadata": {
        "colab": {
          "base_uri": "https://localhost:8080/",
          "height": 223
        },
        "id": "Uwh5duDPwTmX",
        "outputId": "0391581e-784f-43e5-e00b-e1e5d42903bb"
      },
      "outputs": [
        {
          "data": {
            "image/png": "[encoded data removed]",
            "text/plain": [
              "<Figure size 640x480 with 2 Axes>"
            ]
          },
          "metadata": {},
          "output_type": "display_data"
        }
      ],
      "source": [
        "import numpy as np\n",
        "\n",
        "#plot 1:\n",
        "x = np.array([0, 1, 2, 3])\n",
        "y = np.array([3, 8, 1, 10])\n",
        "\n",
        "plt.subplot(1, 2, 1)\n",
        "plt.plot(x,y)\n",
        "\n",
        "#plot 2:\n",
        "x = np.array([0, 1, 2, 3])\n",
        "y = np.array([10, 20, 30, 40])\n",
        "\n",
        "plt.subplot(1, 2, 2)\n",
        "plt.plot(x,y)\n",
        "\n",
        "plt.show()"
      ]
    },
    {
      "cell_type": "code",
      "execution_count": null,
      "metadata": {
        "colab": {
          "base_uri": "https://localhost:8080/",
          "height": 447
        },
        "id": "oyvVOnPLwa3k",
        "outputId": "749c469b-d2d2-460d-f216-d37793d7e851"
      },
      "outputs": [
        {
          "data": {
            "text/plain": [
              "<matplotlib.collections.PathCollection at 0x7c914eb8ceb0>"
            ]
          },
          "execution_count": 43,
          "metadata": {},
          "output_type": "execute_result"
        },
        {
          "data": {
            "image/png": "[encoded data removed]",
            "text/plain": [
              "<Figure size 640x480 with 1 Axes>"
            ]
          },
          "metadata": {},
          "output_type": "display_data"
        }
      ],
      "source": [
        "plt.scatter(x, y)"
      ]
    },
    {
      "cell_type": "code",
      "execution_count": null,
      "metadata": {
        "colab": {
          "base_uri": "https://localhost:8080/",
          "height": 501
        },
        "id": "czkq0za9x71e",
        "outputId": "f28a8851-8976-42eb-e5db-689e1cbbbc91"
      },
      "outputs": [
        {
          "data": {
            "image/png": "[encoded data removed]",
            "text/plain": [
              "<Figure size 1200x600 with 2 Axes>"
            ]
          },
          "metadata": {},
          "output_type": "display_data"
        }
      ],
      "source": [
        "# Data for vertical bars\n",
        "x = ['A', 'B', 'C', 'D']\n",
        "height = [3, 8, 1, 10]\n",
        "bar_width = 0.4\n",
        "bar_color = ['red', 'blue', 'green', 'purple']\n",
        "\n",
        "# Data for horizontal bars\n",
        "y = ['W', 'X', 'Y', 'Z']\n",
        "width = [5, 2, 7, 4]\n",
        "barh_height = 0.4\n",
        "barh_color = ['cyan', 'magenta', 'yellow', 'black']\n",
        "\n",
        "fig, (ax1, ax2) = plt.subplots(1, 2, figsize=(12, 6))\n",
        "\n",
        "# Vertical bars\n",
        "ax1.bar(x, height, width=bar_width, color=bar_color)\n",
        "ax1.set_title('Vertical Bars')\n",
        "ax1.set_xlabel('Categories')\n",
        "ax1.set_ylabel('Values')\n",
        "\n",
        "# Horizontal bars\n",
        "ax2.barh(y, width, height=barh_height, color=barh_color)\n",
        "ax2.set_title('Horizontal Bars')\n",
        "ax2.set_xlabel('Values')\n",
        "ax2.set_ylabel('Categories')\n",
        "\n",
        "plt.tight_layout()\n",
        "plt.show()"
      ]
    },
    {
      "cell_type": "code",
      "execution_count": null,
      "metadata": {
        "colab": {
          "base_uri": "https://localhost:8080/",
          "height": 482
        },
        "id": "yn1IkDqDx-1F",
        "outputId": "b9739aba-ba14-4501-d305-795b7b40ee5a"
      },
      "outputs": [
        {
          "data": {
            "text/plain": [
              "(array([ 9.,  6., 12.,  8., 15., 10., 13.,  8., 10.,  9.]),\n",
              " array([ 4. , 13.5, 23. , 32.5, 42. , 51.5, 61. , 70.5, 80. , 89.5, 99. ]),\n",
              " <BarContainer object of 10 artists>)"
            ]
          },
          "execution_count": 42,
          "metadata": {},
          "output_type": "execute_result"
        },
        {
          "data": {
            "image/png": "[encoded data removed]",
            "text/plain": [
              "<Figure size 640x480 with 1 Axes>"
            ]
          },
          "metadata": {},
          "output_type": "display_data"
        }
      ],
      "source": [
        "import random\n",
        "data = []\n",
        "i = 0\n",
        "while i < 100:\n",
        "    a = random.randint(1, 100)\n",
        "    data.append(a)\n",
        "    i += 1\n",
        "\n",
        "plt.hist(data)"
      ]
    },
    {
      "cell_type": "code",
      "execution_count": null,
      "metadata": {
        "colab": {
          "base_uri": "https://localhost:8080/",
          "height": 545
        },
        "id": "jZ92oSJozPmy",
        "outputId": "12f8bad0-5473-4a90-97cc-f9768247ba16"
      },
      "outputs": [
        {
          "data": {
            "text/plain": [
              "([<matplotlib.patches.Wedge at 0x7c914c8e60b0>,\n",
              "  <matplotlib.patches.Wedge at 0x7c914c8e5150>,\n",
              "  <matplotlib.patches.Wedge at 0x7c914c8e6980>,\n",
              "  <matplotlib.patches.Wedge at 0x7c914c8e6e00>],\n",
              " [Text(0.7778174593052024, 0.7778174593052023, ''),\n",
              "  Text(-1.0461621742897658, 0.3399186742226879, ''),\n",
              "  Text(-0.17207785051137695, -1.0864571843213078, ''),\n",
              "  Text(0.8899187482945414, -0.6465637025335375, '')])"
            ]
          },
          "execution_count": 55,
          "metadata": {},
          "output_type": "execute_result"
        },
        {
          "data": {
            "image/png": "[encoded data removed]",
            "text/plain": [
              "<Figure size 640x480 with 1 Axes>"
            ]
          },
          "metadata": {},
          "output_type": "display_data"
        }
      ],
      "source": [
        "plt.pie([25,40,15,20])"
      ]
    }
  ],
  "metadata": {
    "colab": {
      "collapsed_sections": [
        "qFb-TYYrd5XK",
        "C-pVEZQ6m4QX",
        "In5PoM0HsvKW"
      ],
      "provenance": []
    },
    "kernelspec": {
      "display_name": "Python 3",
      "name": "python3"
    },
    "language_info": {
      "name": "python"
    }
  },
  "nbformat": 4,
  "nbformat_minor": 0
}