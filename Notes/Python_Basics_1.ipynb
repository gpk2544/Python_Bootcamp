{
  "nbformat": 4,
  "nbformat_minor": 0,
  "metadata": {
    "colab": {
      "provenance": []
    },
    "kernelspec": {
      "name": "python3",
      "display_name": "Python 3"
    },
    "language_info": {
      "name": "python"
    }
  },
  "cells": [
    {
      "cell_type": "markdown",
      "source": [
        "# Introduction"
      ],
      "metadata": {
        "id": "zOPrSATRPH62"
      }
    },
    {
      "cell_type": "markdown",
      "source": [
        "What is Python:\n",
        "\n",
        "Developed by Guido Van Rossum in 1991\n",
        "\n",
        "  1. High-level language\n",
        "  2. Obeject Oriented\n",
        "  3. Interpreted - runs the program step by step\n",
        "  4. Dynamic semantics - variables can understand by themselves about their values\n",
        "  5. Simple Syntax\n",
        "  6. General Purpose\n"
      ],
      "metadata": {
        "id": "yjn4PciLPOh7"
      }
    },
    {
      "cell_type": "markdown",
      "source": [
        "Comments:\n",
        "1. Single line comments: #\n",
        "\n",
        "2. Multi line comments: \"\"\"  \"\"\""
      ],
      "metadata": {
        "id": "pDxmJRirRClk"
      }
    },
    {
      "cell_type": "code",
      "source": [
        "#Python is High-level language\n",
        "\"\"\"python\n",
        " is\n",
        "  Interpreted\"\"\"\n",
        "a=1\n",
        "print(a)\n",
        "print(type(a))"
      ],
      "metadata": {
        "colab": {
          "base_uri": "https://localhost:8080/"
        },
        "id": "T19wBvecRsDy",
        "outputId": "f5aab41e-1eff-4bb9-82cf-a6f3e2c01542",
        "collapsed": true
      },
      "execution_count": null,
      "outputs": [
        {
          "output_type": "stream",
          "name": "stdout",
          "text": [
            "1\n",
            "<class 'int'>\n"
          ]
        }
      ]
    },
    {
      "cell_type": "code",
      "source": [
        "print(1)"
      ],
      "metadata": {
        "colab": {
          "base_uri": "https://localhost:8080/"
        },
        "id": "1qS4-UREEGVH",
        "outputId": "2514397b-a27f-4f9f-d132-f544c64a6b11"
      },
      "execution_count": null,
      "outputs": [
        {
          "output_type": "stream",
          "name": "stdout",
          "text": [
            "1\n"
          ]
        }
      ]
    },
    {
      "cell_type": "markdown",
      "source": [
        "Variables\n",
        "\n",
        "  1. It works like a container to store values.\n",
        "  2. it allows different datatypes to store in it.\n",
        "\n",
        "Rules\n",
        "  \n",
        "  1. You most use a-z,A-Z, or _ to start a variable name.\n",
        "  2. Cannot start with a number.\n",
        "  3. Can only contain letters, numbers and underscores.\n",
        "  4. Variable names are case sensitive. Eg; Age, age, AGe\n",
        "  5. Python keywords cannot be used as a variables. Eg: if, else, def, for, etc.."
      ],
      "metadata": {
        "id": "qKVisqdIdCXV"
      }
    },
    {
      "cell_type": "code",
      "source": [
        "# variables\n",
        "The_number=1\n",
        "print(The_number)\n",
        "#casting\n",
        "a=str(3)\n",
        "print(a)\n",
        "print(type(a))"
      ],
      "metadata": {
        "colab": {
          "base_uri": "https://localhost:8080/"
        },
        "id": "24ye8EmDdFA9",
        "outputId": "5718d6c6-279e-41f3-d965-6031c961f6fd",
        "collapsed": true
      },
      "execution_count": null,
      "outputs": [
        {
          "output_type": "stream",
          "name": "stdout",
          "text": [
            "1\n",
            "3\n",
            "<class 'str'>\n"
          ]
        }
      ]
    },
    {
      "cell_type": "code",
      "source": [
        "# to assign mutiple values to multiple variables\n",
        "a=1\n",
        "b=2\n",
        "c=3\n",
        "print(a)\n",
        "print(b)\n",
        "print(c)\n",
        "#instead use this\n",
        "a,b,c=1,2,3\n",
        "print(a,b,c,sep=\"\\n\")"
      ],
      "metadata": {
        "colab": {
          "base_uri": "https://localhost:8080/"
        },
        "id": "FWoHUHCwe8Zg",
        "outputId": "32a56299-04c6-40e4-cf23-9ed3ec99981d",
        "collapsed": true
      },
      "execution_count": null,
      "outputs": [
        {
          "output_type": "stream",
          "name": "stdout",
          "text": [
            "1\n",
            "2\n",
            "3\n",
            "1\n",
            "2\n",
            "3\n"
          ]
        }
      ]
    },
    {
      "cell_type": "code",
      "source": [
        "#same value to multiple variable\n",
        "a=b=c=1\n",
        "print(a,b,c,sep=\"\\n\")\n",
        "# variable name has to be meaningful for further reference\n",
        "pen_price=10\n",
        "pencil_price=5\n",
        "Total_price=pen_price+pencil_price\n",
        "print(Total_price)\n"
      ],
      "metadata": {
        "colab": {
          "base_uri": "https://localhost:8080/"
        },
        "id": "QUX5rD2jfgY8",
        "outputId": "453f1cd2-fbdc-46cb-afe3-d2b016d1836c",
        "collapsed": true
      },
      "execution_count": null,
      "outputs": [
        {
          "output_type": "stream",
          "name": "stdout",
          "text": [
            "1\n",
            "1\n",
            "1\n",
            "15\n"
          ]
        }
      ]
    },
    {
      "cell_type": "code",
      "source": [
        "#we know that variables are not allowed write with space, due to this for a multiple words we can this method:\n",
        "#Camel case\n",
        "myVariableName=\"John\"\n",
        "print(myVariableName)\n",
        "#Pascal Case\n",
        "MyVariableName=\"John\"\n",
        "print(MyVariableName)\n",
        "#Snake Case\n",
        "my_variable_name=\"John\"\n",
        "print(my_variable_name)"
      ],
      "metadata": {
        "colab": {
          "base_uri": "https://localhost:8080/"
        },
        "id": "DaBcmdEtgKcr",
        "outputId": "2a4bf0eb-0e4d-4709-9918-af7884dcd95d",
        "collapsed": true
      },
      "execution_count": null,
      "outputs": [
        {
          "output_type": "stream",
          "name": "stdout",
          "text": [
            "John\n",
            "John\n",
            "John\n"
          ]
        }
      ]
    },
    {
      "cell_type": "code",
      "source": [
        "# we can define a constant values in capital letters. This doesn't make the value as constant, it only helps the reader to understand it is constant.\n",
        "PI=3.14\n",
        "print(PI)"
      ],
      "metadata": {
        "colab": {
          "base_uri": "https://localhost:8080/"
        },
        "id": "2VQg10FRgzmu",
        "outputId": "53e4c676-4705-4fd8-f404-da2cfaa91a15",
        "collapsed": true
      },
      "execution_count": null,
      "outputs": [
        {
          "output_type": "stream",
          "name": "stdout",
          "text": [
            "3.14\n"
          ]
        }
      ]
    },
    {
      "cell_type": "markdown",
      "source": [
        "Operators:\n",
        "  1. Arithmetic Operators(Add: +, Sub: -, Multiply: **, Division:/, Modulus:%, Exponential: ****, Floor division: //)\n",
        "  2. Assignment Operators(=, +=, -=, **=,/=, %=, ****=)\n",
        "  3. Comparison Operators(==, !=, <, >, <=, >=)\n",
        "  4. Logical Operators (and, or, not)\n",
        "  5. Identity Operators(is,is not)\n",
        "  6. Membership Operators(in, not in)\n",
        "  7. Bitwise Opeerators(AND: &, OR: |, XOR: ^, NOT: ~, Zero Fill Left Shift: <<, Zero Fill Right Shift: >>)\n"
      ],
      "metadata": {
        "id": "EcdFfgXqhSdR"
      }
    },
    {
      "cell_type": "code",
      "source": [
        "#Arithmetic Operators:\n",
        "a=10\n",
        "b=5\n",
        "print(\"a+b:\",a+b)#Addition\n",
        "print('a-b:', a-b)#Subraction\n",
        "print('a*b:',a*b)#Muiltiplication\n",
        "print('a/b:',a/b)#Division\n",
        "print('a%b:',a%b)#Modulus\n",
        "print('a**b:',a**b)#Exponential\n",
        "print('a//b:',a//b)#Floor Division\n"
      ],
      "metadata": {
        "colab": {
          "base_uri": "https://localhost:8080/"
        },
        "id": "30bYeLy0kOJB",
        "outputId": "c156b57a-9f5d-4b47-b863-4a8e40392b7d",
        "collapsed": true
      },
      "execution_count": null,
      "outputs": [
        {
          "output_type": "stream",
          "name": "stdout",
          "text": [
            "a+b: 15\n",
            "a-b: 5\n",
            "a*b: 50\n",
            "a/b: 2.0\n",
            "a%b: 0\n",
            "a**b: 100000\n",
            "a//b: 2\n"
          ]
        }
      ]
    },
    {
      "cell_type": "code",
      "source": [
        "#Asssignment Operators:\n",
        "a=10\n",
        "print(a)\n",
        "a+=5\n",
        "print(a)\n",
        "a-=5\n",
        "print(a)\n",
        "a*=5\n",
        "print(a)\n",
        "a/=5\n",
        "print(a)\n",
        "a%=5\n",
        "print(a)\n",
        "a**=5\n",
        "print(a)\n",
        "a//=5\n",
        "print(a)\n"
      ],
      "metadata": {
        "colab": {
          "base_uri": "https://localhost:8080/"
        },
        "id": "2RxWB8StlF4p",
        "outputId": "aa04cba4-0ed5-45c0-d7d4-9a0e0893fbab",
        "collapsed": true
      },
      "execution_count": null,
      "outputs": [
        {
          "output_type": "stream",
          "name": "stdout",
          "text": [
            "10\n",
            "15\n",
            "10\n",
            "50\n",
            "10.0\n",
            "0.0\n",
            "0.0\n",
            "0.0\n"
          ]
        }
      ]
    },
    {
      "cell_type": "code",
      "source": [
        "#Comparison Operators\n",
        "a=10\n",
        "b=5\n",
        "print(a==b)\n",
        "print(a!=b)\n",
        "print(a<b)\n",
        "print(a>b)\n",
        "print(a<=b)\n",
        "print(a>=b)"
      ],
      "metadata": {
        "colab": {
          "base_uri": "https://localhost:8080/"
        },
        "id": "GcsWsUnslR0j",
        "outputId": "ca40eab7-992a-4e71-e029-da271011c8ef",
        "collapsed": true
      },
      "execution_count": null,
      "outputs": [
        {
          "output_type": "stream",
          "name": "stdout",
          "text": [
            "False\n",
            "True\n",
            "False\n",
            "True\n",
            "False\n",
            "True\n"
          ]
        }
      ]
    },
    {
      "cell_type": "code",
      "source": [
        "#Logical Operators\n",
        "a=10\n",
        "b=5\n",
        "print(a==b and a>b)\n",
        "print(a==b or a>b)\n",
        "print(not(a==b and a>b))"
      ],
      "metadata": {
        "colab": {
          "base_uri": "https://localhost:8080/"
        },
        "id": "HpT9R3bvlZMj",
        "outputId": "1f281f66-37ff-4276-d14e-0ea1a4ed767f",
        "collapsed": true
      },
      "execution_count": null,
      "outputs": [
        {
          "output_type": "stream",
          "name": "stdout",
          "text": [
            "False\n",
            "True\n",
            "True\n"
          ]
        }
      ]
    },
    {
      "cell_type": "code",
      "source": [
        "#Identity Operators\n",
        "a=10\n",
        "b=5\n",
        "print(a is b)\n",
        "print(a is not b)"
      ],
      "metadata": {
        "colab": {
          "base_uri": "https://localhost:8080/"
        },
        "id": "-odKosO1le-E",
        "outputId": "d99340a5-7f71-483e-86ad-9de48f01adc3",
        "collapsed": true
      },
      "execution_count": null,
      "outputs": [
        {
          "output_type": "stream",
          "name": "stdout",
          "text": [
            "False\n",
            "True\n"
          ]
        }
      ]
    },
    {
      "cell_type": "code",
      "source": [
        "#Membership operators\n",
        "a=\"Hello\"\n",
        "b=\"apple\"\n",
        "print(a in b)\n",
        "print(a not in b)"
      ],
      "metadata": {
        "colab": {
          "base_uri": "https://localhost:8080/"
        },
        "id": "GKlU5KZylmPc",
        "outputId": "e020a0ee-634f-4cc7-fc14-a5ce076c61e5",
        "collapsed": true
      },
      "execution_count": null,
      "outputs": [
        {
          "output_type": "stream",
          "name": "stdout",
          "text": [
            "False\n",
            "True\n"
          ]
        }
      ]
    },
    {
      "cell_type": "code",
      "source": [
        "#Bitwise Operators\n",
        "a=10\n",
        "b=5\n",
        "print(a&b)\n",
        "print(a|b)\n",
        "print(a^b)\n",
        "print(~a)\n",
        "print(a<<b)\n",
        "print(a>>b)"
      ],
      "metadata": {
        "colab": {
          "base_uri": "https://localhost:8080/"
        },
        "id": "vdxxAhWFlrLY",
        "outputId": "376dac08-5952-456f-e91b-786a60332cc8",
        "collapsed": true
      },
      "execution_count": null,
      "outputs": [
        {
          "output_type": "stream",
          "name": "stdout",
          "text": [
            "0\n",
            "15\n",
            "15\n",
            "-11\n",
            "320\n",
            "0\n"
          ]
        }
      ]
    },
    {
      "cell_type": "markdown",
      "source": [
        "Data Types:\n",
        "1. Numbers\n",
        "    1. Integer\n",
        "    2. Float\n",
        "    3. Complex\n",
        "2. Boolean\n",
        "3. String\n",
        "4. Sequence\n",
        "  1. List\n",
        "  2. Tuple\n",
        "5. Sets\n",
        "6. Mapping(Dictionary)\n",
        "7. None\n",
        "\n"
      ],
      "metadata": {
        "id": "mrHUoKx6SMvu"
      }
    },
    {
      "cell_type": "code",
      "source": [
        "#Integers\n",
        "a=1\n",
        "print(a)\n",
        "print(type(a))"
      ],
      "metadata": {
        "colab": {
          "base_uri": "https://localhost:8080/"
        },
        "id": "kIqtkpKeUB-u",
        "outputId": "c856599e-7e79-44e1-bf4e-ac2d79b5d6d5",
        "collapsed": true
      },
      "execution_count": null,
      "outputs": [
        {
          "output_type": "stream",
          "name": "stdout",
          "text": [
            "1\n",
            "<class 'int'>\n"
          ]
        }
      ]
    },
    {
      "cell_type": "code",
      "source": [
        "#Float\n",
        "a=1.0\n",
        "print(a)\n",
        "print(type(a))\n",
        "b=1.2e6\n",
        "print(b)\n",
        "print(type(b))"
      ],
      "metadata": {
        "colab": {
          "base_uri": "https://localhost:8080/"
        },
        "id": "gmPD06NsW-k6",
        "outputId": "2631c8be-af88-4aba-d16f-dc04420da2f2",
        "collapsed": true
      },
      "execution_count": null,
      "outputs": [
        {
          "output_type": "stream",
          "name": "stdout",
          "text": [
            "1.0\n",
            "<class 'float'>\n",
            "1200000.0\n",
            "<class 'float'>\n"
          ]
        }
      ]
    },
    {
      "cell_type": "code",
      "source": [
        "#Complex\n",
        "a=1+2j\n",
        "print(a)\n",
        "print(type(a))"
      ],
      "metadata": {
        "colab": {
          "base_uri": "https://localhost:8080/"
        },
        "id": "2fHeNx6wXCYM",
        "outputId": "265ba28c-a4a5-49ec-d0d8-bf79862d22e2",
        "collapsed": true
      },
      "execution_count": null,
      "outputs": [
        {
          "output_type": "stream",
          "name": "stdout",
          "text": [
            "(1+2j)\n",
            "<class 'complex'>\n"
          ]
        }
      ]
    },
    {
      "cell_type": "code",
      "source": [
        "#booleans\n",
        "a=bool(1==1)\n",
        "print(a)\n",
        "print(type(a))"
      ],
      "metadata": {
        "colab": {
          "base_uri": "https://localhost:8080/"
        },
        "id": "etIjfxrjXHQ-",
        "outputId": "def9f431-8d69-4e99-f42b-e21c7f6c2096",
        "collapsed": true
      },
      "execution_count": null,
      "outputs": [
        {
          "output_type": "stream",
          "name": "stdout",
          "text": [
            "True\n",
            "<class 'bool'>\n"
          ]
        }
      ]
    },
    {
      "cell_type": "code",
      "source": [
        "#None\n",
        "a=None\n",
        "print(a)\n",
        "print(type(a))\n"
      ],
      "metadata": {
        "colab": {
          "base_uri": "https://localhost:8080/"
        },
        "id": "er6jkSy_Ygv9",
        "outputId": "5fc2ef0b-bbe3-46b2-cc00-90ec1d8078e4",
        "collapsed": true
      },
      "execution_count": null,
      "outputs": [
        {
          "output_type": "stream",
          "name": "stdout",
          "text": [
            "None\n",
            "<class 'NoneType'>\n"
          ]
        }
      ]
    },
    {
      "cell_type": "markdown",
      "source": [
        "Strings"
      ],
      "metadata": {
        "id": "6n8Gf4uYmYbp"
      }
    },
    {
      "cell_type": "code",
      "source": [
        "#Strings - enclosed in \" \", ' ',\"\"\" \"\"\"  , immutable\n",
        "a=\"Hello World\"\n",
        "print(a)\n",
        "print(type(a))\n",
        "print(len(a))\n",
        "b=\"\"\"This\n",
        "is a\n",
        "multi\n",
        "line\n",
        "string\"\"\"\n",
        "print(b)\n",
        "print(type(b))\n",
        "print(len(b))\n"
      ],
      "metadata": {
        "colab": {
          "base_uri": "https://localhost:8080/"
        },
        "id": "4AZtVUErYvhq",
        "outputId": "4597ef35-7ccd-4cf4-9d82-3f854e6177fa",
        "collapsed": true
      },
      "execution_count": null,
      "outputs": [
        {
          "output_type": "stream",
          "name": "stdout",
          "text": [
            "Hello World\n",
            "<class 'str'>\n",
            "11\n",
            "This \n",
            "is a \n",
            "multi\n",
            "line \n",
            "string\n",
            "<class 'str'>\n",
            "30\n"
          ]
        }
      ]
    },
    {
      "cell_type": "code",
      "source": [
        "# To print the methoda\n",
        "print(dir(a))"
      ],
      "metadata": {
        "colab": {
          "base_uri": "https://localhost:8080/"
        },
        "id": "vsXbbYEJZ9lZ",
        "outputId": "b128de81-f84c-4359-9b6b-799277c46359",
        "collapsed": true
      },
      "execution_count": null,
      "outputs": [
        {
          "output_type": "stream",
          "name": "stdout",
          "text": [
            "['__abs__', '__add__', '__and__', '__bool__', '__ceil__', '__class__', '__delattr__', '__dir__', '__divmod__', '__doc__', '__eq__', '__float__', '__floor__', '__floordiv__', '__format__', '__ge__', '__getattribute__', '__getnewargs__', '__gt__', '__hash__', '__index__', '__init__', '__init_subclass__', '__int__', '__invert__', '__le__', '__lshift__', '__lt__', '__mod__', '__mul__', '__ne__', '__neg__', '__new__', '__or__', '__pos__', '__pow__', '__radd__', '__rand__', '__rdivmod__', '__reduce__', '__reduce_ex__', '__repr__', '__rfloordiv__', '__rlshift__', '__rmod__', '__rmul__', '__ror__', '__round__', '__rpow__', '__rrshift__', '__rshift__', '__rsub__', '__rtruediv__', '__rxor__', '__setattr__', '__sizeof__', '__str__', '__sub__', '__subclasshook__', '__truediv__', '__trunc__', '__xor__', 'as_integer_ratio', 'bit_count', 'bit_length', 'conjugate', 'denominator', 'from_bytes', 'imag', 'numerator', 'real', 'to_bytes']\n"
          ]
        }
      ]
    },
    {
      "cell_type": "code",
      "source": [
        "#Multiply: * (To print the same string multiple times)\n",
        "a=\"Hello \"\n",
        "print(a*3)"
      ],
      "metadata": {
        "colab": {
          "base_uri": "https://localhost:8080/"
        },
        "id": "MlKC2Z_SaFXh",
        "outputId": "14c34681-4ebd-46c5-d5db-4b8feee53a91",
        "collapsed": true
      },
      "execution_count": null,
      "outputs": [
        {
          "output_type": "stream",
          "name": "stdout",
          "text": [
            "Hello Hello Hello \n"
          ]
        }
      ]
    },
    {
      "cell_type": "code",
      "source": [
        "#Membership Operator: in,not in\n",
        "print(\"Hello\" in a)\n",
        "print(\"Hello\" not in a)"
      ],
      "metadata": {
        "colab": {
          "base_uri": "https://localhost:8080/"
        },
        "id": "BhV2jkleaalp",
        "outputId": "1e99a861-ccfc-4aef-dc99-88a8c46f973f",
        "collapsed": true
      },
      "execution_count": null,
      "outputs": [
        {
          "output_type": "stream",
          "name": "stdout",
          "text": [
            "True\n",
            "False\n"
          ]
        }
      ]
    },
    {
      "cell_type": "code",
      "source": [
        "# Indexing\n",
        "print(a[0])\n",
        "print(a[-2])\n"
      ],
      "metadata": {
        "colab": {
          "base_uri": "https://localhost:8080/"
        },
        "id": "R9VRfgNIak0b",
        "outputId": "cf58b376-41b8-4b70-9b25-d6ce48de97d3",
        "collapsed": true
      },
      "execution_count": null,
      "outputs": [
        {
          "output_type": "stream",
          "name": "stdout",
          "text": [
            "H\n",
            "o\n"
          ]
        }
      ]
    },
    {
      "cell_type": "code",
      "source": [
        "#Slicing\n",
        "print(a[0:5])\n",
        "print(a[:5])\n",
        "print(a[:])\n",
        "print(a[1:])\n",
        "#To skip one character\n",
        "print(a[0:5:2])\n",
        "print(a[::2])\n",
        "print(a[::])\n",
        "# To reverse the string\n",
        "print(a[::-1])"
      ],
      "metadata": {
        "colab": {
          "base_uri": "https://localhost:8080/"
        },
        "id": "Pjl_ku5Oaxe8",
        "outputId": "89d9e1d9-c7ca-473a-f597-e34cd99fb064",
        "collapsed": true
      },
      "execution_count": null,
      "outputs": [
        {
          "output_type": "stream",
          "name": "stdout",
          "text": [
            "Hello\n",
            "Hello\n",
            "Hello \n",
            "ello \n",
            "Hlo\n",
            "Hlo\n",
            "Hello \n",
            " olleH\n"
          ]
        }
      ]
    },
    {
      "cell_type": "code",
      "source": [
        "#Methods\n",
        "print(dir(a))\n",
        "# we can do some specific methods\n",
        "print(a.replace(\" \",\"*\"))\n",
        "print(a.strip())# it will remove the space or '-' if you mention it in the brackets\n",
        "print(a.rstrip())\n",
        "print(a.count(\"l\"))\n",
        "print(a.upper())\n",
        "print(a.lower())\n",
        "print(a.split())\n",
        "print(a.casefold())# this is also like lower() but it also deals with german letters like alpha, beta\n",
        "print(a.find(\"o\"))"
      ],
      "metadata": {
        "colab": {
          "base_uri": "https://localhost:8080/"
        },
        "id": "CRytfGKnbfQC",
        "outputId": "db303a01-73b6-4bed-edfa-5e66c7c0232d",
        "collapsed": true
      },
      "execution_count": null,
      "outputs": [
        {
          "output_type": "stream",
          "name": "stdout",
          "text": [
            "['__add__', '__class__', '__contains__', '__delattr__', '__dir__', '__doc__', '__eq__', '__format__', '__ge__', '__getattribute__', '__getitem__', '__getnewargs__', '__gt__', '__hash__', '__init__', '__init_subclass__', '__iter__', '__le__', '__len__', '__lt__', '__mod__', '__mul__', '__ne__', '__new__', '__reduce__', '__reduce_ex__', '__repr__', '__rmod__', '__rmul__', '__setattr__', '__sizeof__', '__str__', '__subclasshook__', 'capitalize', 'casefold', 'center', 'count', 'encode', 'endswith', 'expandtabs', 'find', 'format', 'format_map', 'index', 'isalnum', 'isalpha', 'isascii', 'isdecimal', 'isdigit', 'isidentifier', 'islower', 'isnumeric', 'isprintable', 'isspace', 'istitle', 'isupper', 'join', 'ljust', 'lower', 'lstrip', 'maketrans', 'partition', 'removeprefix', 'removesuffix', 'replace', 'rfind', 'rindex', 'rjust', 'rpartition', 'rsplit', 'rstrip', 'split', 'splitlines', 'startswith', 'strip', 'swapcase', 'title', 'translate', 'upper', 'zfill']\n",
            "Hello*\n",
            "Hello\n",
            "Hello\n",
            "2\n",
            "HELLO \n",
            "hello \n",
            "['Hello']\n",
            "hello \n",
            "4\n"
          ]
        }
      ]
    },
    {
      "cell_type": "markdown",
      "source": [
        "List:\n",
        "\n",
        "1. Square Brackets [ ]\n",
        "2. Ordered, changeable, Allow Duplicates\n",
        "3. Allow differnent datatypes"
      ],
      "metadata": {
        "id": "VqjUKhuamVxH"
      }
    },
    {
      "cell_type": "code",
      "source": [
        "# To create a list\n",
        "a=[1,2,3,4,5]\n",
        "print(a)\n",
        "print(type(a))"
      ],
      "metadata": {
        "colab": {
          "base_uri": "https://localhost:8080/"
        },
        "id": "gzfW5Gv_nLUE",
        "outputId": "bbfacc5e-72c1-40b1-a5cb-4f950f9d21b5",
        "collapsed": true
      },
      "execution_count": null,
      "outputs": [
        {
          "output_type": "stream",
          "name": "stdout",
          "text": [
            "[1, 2, 3, 4, 5]\n",
            "<class 'list'>\n"
          ]
        }
      ]
    },
    {
      "cell_type": "code",
      "source": [
        "# another way to create a list\n",
        "l1=list(range(11))\n",
        "print(l1)"
      ],
      "metadata": {
        "colab": {
          "base_uri": "https://localhost:8080/"
        },
        "id": "e34i3ayhnS-A",
        "outputId": "3f55e27e-d9bf-457c-df5c-81cd02c229c4",
        "collapsed": true
      },
      "execution_count": null,
      "outputs": [
        {
          "output_type": "stream",
          "name": "stdout",
          "text": [
            "[0, 1, 2, 3, 4, 5, 6, 7, 8, 9, 10]\n"
          ]
        }
      ]
    },
    {
      "cell_type": "code",
      "source": [
        "#Ordered List: list is ordered by indexing\n",
        "a=[1,2,3,4,5]\n",
        "print(a)\n",
        "print(a[0])\n",
        "print(a[-1])"
      ],
      "metadata": {
        "colab": {
          "base_uri": "https://localhost:8080/"
        },
        "id": "K0tTNpE3nf5F",
        "outputId": "4e3469f7-e8f7-4aca-9434-8eee00ff141b",
        "collapsed": true
      },
      "execution_count": null,
      "outputs": [
        {
          "output_type": "stream",
          "name": "stdout",
          "text": [
            "[1, 2, 3, 4, 5]\n",
            "1\n",
            "5\n"
          ]
        }
      ]
    },
    {
      "cell_type": "code",
      "source": [
        "# List-slicing\n",
        "print(a[0:3])\n",
        "print(a[:3])\n",
        "print(a[:])\n",
        "print(a[1:])\n",
        "#To skip one character\n",
        "print(a[0:5:2])\n",
        "print(a[::2])\n",
        "print(a[::])\n",
        "# To reverse the list\n",
        "print(a[::-1])"
      ],
      "metadata": {
        "colab": {
          "base_uri": "https://localhost:8080/"
        },
        "id": "_o11v1WfnyR1",
        "outputId": "b5a1fa1d-57fe-44d6-b09d-ba486ae818ab",
        "collapsed": true
      },
      "execution_count": null,
      "outputs": [
        {
          "output_type": "stream",
          "name": "stdout",
          "text": [
            "[1, 2, 3]\n",
            "[1, 2, 3]\n",
            "[1, 2, 3, 4, 5]\n",
            "[2, 3, 4, 5]\n",
            "[1, 3, 5]\n",
            "[1, 3, 5]\n",
            "[1, 2, 3, 4, 5]\n",
            "[5, 4, 3, 2, 1]\n"
          ]
        }
      ]
    },
    {
      "cell_type": "code",
      "source": [
        "#List-update\n",
        "#By indexing\n",
        "a[0]=10\n",
        "print(a)\n",
        "#By slicing\n",
        "a[0:3]=[10,20,30]\n",
        "print(a)"
      ],
      "metadata": {
        "colab": {
          "base_uri": "https://localhost:8080/"
        },
        "id": "C6Y-pDbKn-rO",
        "outputId": "bd3fb9d3-d91b-4370-a15b-f368cb6b43d5",
        "collapsed": true
      },
      "execution_count": null,
      "outputs": [
        {
          "output_type": "stream",
          "name": "stdout",
          "text": [
            "[10, 2, 3, 4, 5]\n",
            "[10, 20, 30, 4, 5]\n"
          ]
        }
      ]
    },
    {
      "cell_type": "code",
      "source": [
        "# List-Add items\n",
        "#append-add at last\n",
        "a.append(6)\n",
        "print(a)\n",
        "#insert-add at specific index\n",
        "a.insert(0,0)\n",
        "print(a)\n",
        "#extend-add multiple items\n",
        "a.extend([7,8,9])\n",
        "print(a)\n",
        "\n"
      ],
      "metadata": {
        "colab": {
          "base_uri": "https://localhost:8080/"
        },
        "id": "e32G_3MaobFz",
        "outputId": "576c0adb-4c8e-47ef-cc62-357629b4a3d6",
        "collapsed": true
      },
      "execution_count": null,
      "outputs": [
        {
          "output_type": "stream",
          "name": "stdout",
          "text": [
            "[10, 20, 30, 4, 5, 6]\n",
            "[0, 10, 20, 30, 4, 5, 6]\n",
            "[0, 10, 20, 30, 4, 5, 6, 7, 8, 9]\n"
          ]
        }
      ]
    },
    {
      "cell_type": "code",
      "source": [
        "#List: Remove items\n",
        "a.remove(0)\n",
        "print(a)\n",
        "a.pop()\n",
        "print(a)\n",
        "del a[0]\n",
        "print(a)"
      ],
      "metadata": {
        "id": "Rns0IwsiozbL"
      },
      "execution_count": null,
      "outputs": []
    },
    {
      "cell_type": "code",
      "source": [
        "#List: indexing\n",
        "a.index(5)\n"
      ],
      "metadata": {
        "colab": {
          "base_uri": "https://localhost:8080/"
        },
        "id": "-ZFzMljhpLzx",
        "outputId": "63978c53-b4fe-48a5-a56a-f233153eb1a4",
        "collapsed": true
      },
      "execution_count": null,
      "outputs": [
        {
          "output_type": "execute_result",
          "data": {
            "text/plain": [
              "3"
            ]
          },
          "metadata": {},
          "execution_count": 75
        }
      ]
    },
    {
      "cell_type": "code",
      "source": [
        "#List: count\n",
        "a.count(5)\n",
        "#List: Sort\n",
        "a.sort()\n",
        "print(a)\n",
        "a.sort(reverse=True)\n",
        "print(a)\n",
        "#sorting for alphabetes\n",
        "b=['a','b','c','d','e']\n",
        "b.sort()\n",
        "print(b)\n",
        "#askey values\n",
        "print(ord('a'))\n",
        "print(ord('b'))\n",
        "#List: copy\n",
        "c=a.copy()\n",
        "print(c)"
      ],
      "metadata": {
        "id": "vrw0Y5NipTti"
      },
      "execution_count": null,
      "outputs": []
    },
    {
      "cell_type": "code",
      "source": [
        "#List: Membership\n",
        "print(10 in a)\n",
        "print(10 not in a)\n",
        "#List: Nested list\n",
        "a=[1,2,3,[4,5,6]]\n",
        "print(a)\n",
        "print(a[3])\n",
        "print(a[3][0])\n",
        "#Nested list append\n",
        "a[3].append(7)\n",
        "print(a)\n",
        "#nested list accesing\n",
        "print(a[3][0])"
      ],
      "metadata": {
        "id": "yADZ5sGRp6sN"
      },
      "execution_count": null,
      "outputs": []
    },
    {
      "cell_type": "code",
      "source": [
        "#List comprehension- Shorter way of creating new list with existing list\n",
        "names=['Allen','Vijay','Abishek']\n",
        "names_list=[name for name in names]\n",
        "print(names_list)\n",
        "#To print the names with 'a'\n",
        "names_list=[name for name in names if 'A' in name]\n",
        "print(names_list)"
      ],
      "metadata": {
        "id": "2VKniNCyqhAb"
      },
      "execution_count": null,
      "outputs": []
    },
    {
      "cell_type": "code",
      "source": [
        "#To multiply the number with 2\n",
        "A=[number*2 for number in range(11)]\n",
        "print(A)"
      ],
      "metadata": {
        "id": "G02N4-igrzr7"
      },
      "execution_count": null,
      "outputs": []
    },
    {
      "cell_type": "code",
      "source": [
        "#Nested List Comprehension\n",
        "a=[[y for y in range (4)]for x in range (4)]\n",
        "print(a)"
      ],
      "metadata": {
        "id": "zs8ll9TisGPY"
      },
      "execution_count": null,
      "outputs": []
    },
    {
      "cell_type": "markdown",
      "source": [
        "Tuples()\n",
        "1. Ordered\n",
        "2. Immutable\n",
        "3. Allow Duplicates"
      ],
      "metadata": {
        "id": "1gHC6Ng1saYM"
      }
    },
    {
      "cell_type": "code",
      "source": [
        "# to create tuple\n",
        "a=(1,2,3,4,5)\n",
        "print(a)\n",
        "print(type(a))\n",
        "print(len(a))"
      ],
      "metadata": {
        "id": "qxv3-S1Nspql"
      },
      "execution_count": null,
      "outputs": []
    },
    {
      "cell_type": "code",
      "source": [
        "#object type 'int' has no len()\n",
        "b=(1)\n",
        "print(type(b))\n",
        "print(len(b))"
      ],
      "metadata": {
        "id": "Q4mgHnhDthPG"
      },
      "execution_count": null,
      "outputs": []
    },
    {
      "cell_type": "code",
      "source": [
        "# for string in tuple\n",
        "b=(\"Hello\")\n",
        "print(type(b))# it shows as str\n",
        "print(len(b))\n",
        "c=(\"Hello\",)\n",
        "print(type(c))\n",
        "print(len(c))\n"
      ],
      "metadata": {
        "id": "xG4oQ82wt_ir"
      },
      "execution_count": null,
      "outputs": []
    },
    {
      "cell_type": "code",
      "source": [
        "#Items in the tuples are ordered\n",
        "print(a[0])\n",
        "print(a[-1])\n",
        "print(a[0:3])\n",
        "print(a[:3])\n",
        "print(a[:])\n",
        "print(a[1:])\n",
        "#reverse\n",
        "print(a[::-1])\n"
      ],
      "metadata": {
        "id": "MAuIF8lptsZh"
      },
      "execution_count": null,
      "outputs": []
    },
    {
      "cell_type": "code",
      "source": [
        "#Items in a tuples are immutable they will be mutable by using list\n",
        "t1=(1,2,3,4,5)\n",
        "l1=list(t1)\n",
        "print(l1)\n",
        "l1[0]=10\n",
        "print(l1)\n",
        "t1=tuple(l1)\n",
        "print(t1)\n",
        "print(type(t1))"
      ],
      "metadata": {
        "colab": {
          "base_uri": "https://localhost:8080/"
        },
        "id": "UT8CK8cSuYYn",
        "outputId": "3315ac05-72e8-4d99-a3dd-1041f1916fad"
      },
      "execution_count": null,
      "outputs": [
        {
          "output_type": "stream",
          "name": "stdout",
          "text": [
            "[1, 2, 3, 4, 5]\n",
            "[10, 2, 3, 4, 5]\n",
            "(10, 2, 3, 4, 5)\n",
            "<class 'tuple'>\n"
          ]
        }
      ]
    },
    {
      "cell_type": "code",
      "source": [
        "#Basic Operations on tuples\n",
        "#unpacking a Tuple:\n",
        "a=(1,2,3)\n",
        "x,y,z=a\n",
        "print(x)\n",
        "print(y)\n",
        "print(z)"
      ],
      "metadata": {
        "id": "d1WT6mCxuvR9"
      },
      "execution_count": null,
      "outputs": []
    },
    {
      "cell_type": "code",
      "source": [
        "# To join two tuple together\n",
        "a=(1,2,3)\n",
        "b=(4,5,6)\n",
        "c=a+b\n",
        "print(c)\n",
        "\n"
      ],
      "metadata": {
        "id": "9FTCtMK9u-zM"
      },
      "execution_count": null,
      "outputs": []
    },
    {
      "cell_type": "code",
      "source": [
        "#To print Multiply times\n",
        "print(a*3)\n",
        "#count\n",
        "print(a.count(1))\n",
        "#index\n",
        "print(a.index(1))"
      ],
      "metadata": {
        "id": "afL2fCLovMw-"
      },
      "execution_count": null,
      "outputs": []
    },
    {
      "cell_type": "markdown",
      "source": [
        "Sets {}\n",
        "\n",
        "  1. Unordered - unindexed\n",
        "  2. Immutable\n",
        "  3. Do not allow duplicates"
      ],
      "metadata": {
        "id": "GuGQyV4LvYaF"
      }
    },
    {
      "cell_type": "code",
      "source": [
        "#creation of sets\n",
        "a={1,2,3,4,5}\n",
        "print(a)\n",
        "print(type(a))\n",
        "print(len(a))\n"
      ],
      "metadata": {
        "colab": {
          "base_uri": "https://localhost:8080/"
        },
        "id": "VZjG-OxTvi3J",
        "outputId": "ceba7941-0af1-4846-9eec-c55761aa1447"
      },
      "execution_count": null,
      "outputs": [
        {
          "output_type": "stream",
          "name": "stdout",
          "text": [
            "{1, 2, 3, 4, 5}\n",
            "<class 'set'>\n",
            "5\n"
          ]
        }
      ]
    },
    {
      "cell_type": "code",
      "source": [
        "#duplicates are not allowed\n",
        "a={1,2,3,4,5,1,2,3,4,5}\n",
        "print(a)\n",
        "print(len(a))"
      ],
      "metadata": {
        "colab": {
          "base_uri": "https://localhost:8080/"
        },
        "id": "UBO5r2hTvrLf",
        "outputId": "feb671aa-d4f5-4f3d-8740-d9ff089ff8da"
      },
      "execution_count": null,
      "outputs": [
        {
          "output_type": "stream",
          "name": "stdout",
          "text": [
            "{1, 2, 3, 4, 5}\n",
            "5\n"
          ]
        }
      ]
    },
    {
      "cell_type": "code",
      "source": [
        "# To access the  values in set without indexing, we use\n",
        "for x in a:\n",
        "  print(x)"
      ],
      "metadata": {
        "colab": {
          "base_uri": "https://localhost:8080/"
        },
        "id": "7bJuke43v5xp",
        "outputId": "58c49b90-dd63-40d2-fd3d-c2f5a8d7fe0c"
      },
      "execution_count": null,
      "outputs": [
        {
          "output_type": "stream",
          "name": "stdout",
          "text": [
            "1\n",
            "2\n",
            "3\n",
            "4\n",
            "5\n"
          ]
        }
      ]
    },
    {
      "cell_type": "code",
      "source": [
        "#Membership Operator\n",
        "print(1 in a)\n",
        "print(1 not in a)"
      ],
      "metadata": {
        "id": "c-aknfZpwR1Q"
      },
      "execution_count": null,
      "outputs": []
    },
    {
      "cell_type": "code",
      "source": [
        "#To add items in set\n",
        "a.add(6)\n",
        "print(a)\n",
        "#To add multiple items\n",
        "a.update([7,8,9])\n",
        "print(a)\n",
        "#To remove items\n",
        "a.remove(5)\n",
        "print(a)\n",
        "#to discard items\n",
        "a.discard(2)\n",
        "print(a)# difference between remove and 'discard': when you didn't pass any item or given item is not present in a set then discard will continue but remove will raise an error\n",
        "#pop items\n",
        "a.pop()\n",
        "print(a) # pop will remove first item we can't allowed  to tell the specific item\n",
        "#to clear the set\n",
        "a.clear()\n",
        "print(a)"
      ],
      "metadata": {
        "id": "rDgGypH-wXk6"
      },
      "execution_count": null,
      "outputs": []
    },
    {
      "cell_type": "code",
      "source": [
        "#union\n",
        "a={1,2,3,4,5}\n",
        "b={4,5,6,7,8}\n",
        "c=a.union(b)\n",
        "print(c)\n",
        "#Intersection\n",
        "c=a.intersection(b)\n",
        "print(c)\n",
        "#Difference\n",
        "c=a.difference(b)\n",
        "print(c)\n",
        "c=b.difference(a)\n",
        "print(c)\n",
        "#symmetric_difference\n",
        "c=a.symmetric_difference(b)\n",
        "print(c)"
      ],
      "metadata": {
        "id": "AkF8_MRsyJea"
      },
      "execution_count": null,
      "outputs": []
    },
    {
      "cell_type": "markdown",
      "source": [
        "Dictionary:\n",
        "  \n",
        "  1. Items are stored as {Key : Value} pair\n",
        "  2. Ordered\n",
        "  3. Allow Duplicates values but not for keys\n",
        "  4. Unindexed but accessed by keys"
      ],
      "metadata": {
        "id": "Kwbgnr4kypTb"
      }
    },
    {
      "cell_type": "code",
      "source": [
        "#Ordered:\n",
        "a={'Name':\"Allen\",'Occupation':\"Developer\",'Company':\"Microsoft\"}\n",
        "print(a)\n",
        "print(type(a))\n",
        "print(len(a))"
      ],
      "metadata": {
        "colab": {
          "base_uri": "https://localhost:8080/"
        },
        "id": "KXJf_2wy0NiI",
        "outputId": "f20c962e-0581-4335-e39a-ebb841671e8e"
      },
      "execution_count": null,
      "outputs": [
        {
          "output_type": "stream",
          "name": "stdout",
          "text": [
            "{'Name': 'Allen', 'Occupation': 'Developer', 'Company': 'Microsoft'}\n",
            "<class 'dict'>\n",
            "3\n"
          ]
        }
      ]
    },
    {
      "cell_type": "code",
      "source": [
        "#Accessed by Keys\n",
        "print(a['Occupation'])"
      ],
      "metadata": {
        "colab": {
          "base_uri": "https://localhost:8080/"
        },
        "id": "C70UNkPl0tTp",
        "outputId": "f1143346-525f-48c4-de5f-60bb46d3034b"
      },
      "execution_count": null,
      "outputs": [
        {
          "output_type": "stream",
          "name": "stdout",
          "text": [
            "Developer\n"
          ]
        }
      ]
    },
    {
      "cell_type": "code",
      "source": [
        "#Allow duplicates values but not keys\n",
        "a={1:\"Allen\",2:\"Vijay\",3:\"Abishek\",4:\"Allen\"}\n",
        "print(a)"
      ],
      "metadata": {
        "colab": {
          "base_uri": "https://localhost:8080/"
        },
        "id": "pvpGb1ED07Ks",
        "outputId": "3ba1ad5e-b1eb-4a68-8493-286f49b85232"
      },
      "execution_count": null,
      "outputs": [
        {
          "output_type": "stream",
          "name": "stdout",
          "text": [
            "{1: 'Allen', 2: 'Vijay', 3: 'Abishek', 4: 'Allen'}\n"
          ]
        }
      ]
    },
    {
      "cell_type": "code",
      "source": [
        "#List into Dictionary\n",
        "a=[(1,\"Allen\"),(2,\"Vijay\"),(3,\"Abishek\")]\n",
        "print(dict(a))"
      ],
      "metadata": {
        "id": "eav-yGRg1VEP"
      },
      "execution_count": null,
      "outputs": []
    },
    {
      "cell_type": "code",
      "source": [
        "#change values\n",
        "a={1:\"Allen\",2:\"Vijay\",3:\"Abishek\"}\n",
        "a[1]=\"Mohan\"\n",
        "print(a)"
      ],
      "metadata": {
        "id": "psq6wPOf2gpo"
      },
      "execution_count": null,
      "outputs": []
    },
    {
      "cell_type": "code",
      "source": [
        "#update\n",
        "a={1:\"Allen\",2:\"Vijay\",3:\"Abishek\"}\n",
        "a.update({1:\"Mohan\"})\n",
        "print(a)"
      ],
      "metadata": {
        "id": "wrdppSJp27FT"
      },
      "execution_count": null,
      "outputs": []
    },
    {
      "cell_type": "code",
      "source": [
        "#remove items\n",
        "a={1:\"Allen\",2:\"Vijay\",3:\"Abishek\"}\n",
        "a.pop(2)\n",
        "print(a)"
      ],
      "metadata": {
        "id": "ujV5Z2TH3EmG"
      },
      "execution_count": null,
      "outputs": []
    },
    {
      "cell_type": "code",
      "source": [
        "#sorting\n",
        "a={1:\"Allen\",2:\"Vijay\",3:\"Abishek\"}\n",
        "print(sorted(a))\n",
        "print(sorted(a.values()))"
      ],
      "metadata": {
        "id": "4tHCkkHr3SbR"
      },
      "execution_count": null,
      "outputs": []
    },
    {
      "cell_type": "markdown",
      "source": [
        "# Control Flow"
      ],
      "metadata": {
        "id": "U8mSfJxQG4Ed"
      }
    },
    {
      "cell_type": "markdown",
      "source": [
        "Control Flow statements\n",
        "1. Selection:\n",
        "  1. One-way selection\n",
        "  2. Two-way selection\n",
        "  3. Multi-way selection\n",
        "2. Sequence:\n",
        "3. Iteration"
      ],
      "metadata": {
        "id": "dh9CJsyP4Ma5"
      }
    },
    {
      "cell_type": "code",
      "source": [
        "#Selection:\n",
        "#One way selection:\n",
        "Order=560\n",
        "minimum_order=500\n",
        "delivery_charge=50\n",
        "if Order>minimum_order:\n",
        "  delivery_charge=0\n",
        "total_price=Order+delivery_charge\n",
        "print(total_price)"
      ],
      "metadata": {
        "colab": {
          "base_uri": "https://localhost:8080/"
        },
        "id": "nM6kw2mb3jy-",
        "outputId": "5c6fe9b2-dc03-45bb-d97e-ecf16dd93e24"
      },
      "execution_count": null,
      "outputs": [
        {
          "output_type": "stream",
          "name": "stdout",
          "text": [
            "560\n"
          ]
        }
      ]
    },
    {
      "cell_type": "code",
      "source": [
        "#Two way selection\n",
        "marks=45\n",
        "passing=35\n",
        "if marks>passing:\n",
        "  print(\"Pass\")\n",
        "else:\n",
        "  print(\"Fail\")"
      ],
      "metadata": {
        "colab": {
          "base_uri": "https://localhost:8080/"
        },
        "id": "fAijFbGp5YEh",
        "outputId": "941dfd66-6bfe-4ece-b3c7-c209e99c0ebd"
      },
      "execution_count": null,
      "outputs": [
        {
          "output_type": "stream",
          "name": "stdout",
          "text": [
            "Pass\n"
          ]
        }
      ]
    },
    {
      "cell_type": "code",
      "source": [
        "#Multi way selction\n",
        "marks=45\n",
        "passing=35\n",
        "if marks>passing:\n",
        "  print(\"Pass\")\n",
        "elif marks==passing:\n",
        "  print(\"Just Pass\")\n",
        "else:\n",
        "  print(\"Fail\")"
      ],
      "metadata": {
        "id": "QRCprmqq5l9s"
      },
      "execution_count": null,
      "outputs": []
    },
    {
      "cell_type": "code",
      "source": [
        "#Ternary Operation or Conditional expression\n",
        "#Short hand if:\n",
        "marks=45\n",
        "passing=35\n",
        "if marks>passing:print(\"pass\")\n",
        "#Short hand if else:\n",
        "print(\"pass\") if marks>passing else print(\"fail\")"
      ],
      "metadata": {
        "id": "E6WQDJz15wZU"
      },
      "execution_count": null,
      "outputs": []
    },
    {
      "cell_type": "code",
      "source": [
        "#Logical Operator and, or, not in conditional statements:\n",
        "a=50\n",
        "b=70\n",
        "c=90\n",
        "if a>b and a>c:\n",
        "  print(\"a is greater\")\n",
        "elif b>a and b>c:\n",
        "  print(\"b is greater\")\n",
        "else:\n",
        "  print(\"c is greater\")\n"
      ],
      "metadata": {
        "colab": {
          "base_uri": "https://localhost:8080/"
        },
        "id": "Db3XFkFF6xiK",
        "outputId": "77e85ce0-cbd3-40eb-b4de-bddb87d7ceef"
      },
      "execution_count": null,
      "outputs": [
        {
          "output_type": "stream",
          "name": "stdout",
          "text": [
            "c is greater\n"
          ]
        }
      ]
    },
    {
      "cell_type": "code",
      "source": [
        "#Nested Loop in conditional statements:\n",
        "number=35\n",
        "if number>=0:\n",
        "  if number==0:\n",
        "    print(\"number is zero\")\n",
        "  else:\n",
        "    print(\"number is positive\")\n",
        "else:\n",
        "  print(\"number is negative\")"
      ],
      "metadata": {
        "id": "7opbfKsx7Vp1"
      },
      "execution_count": null,
      "outputs": []
    },
    {
      "cell_type": "code",
      "source": [
        "#pass key\n",
        "if True:\n",
        "  pass\n"
      ],
      "metadata": {
        "id": "GmifXxuU7ixn"
      },
      "execution_count": null,
      "outputs": []
    },
    {
      "cell_type": "code",
      "source": [
        "number=20\n",
        "if number>10:\n",
        "  pass"
      ],
      "metadata": {
        "id": "rKFi50LQ7rYl"
      },
      "execution_count": null,
      "outputs": []
    },
    {
      "cell_type": "markdown",
      "source": [
        "Iteration:\n",
        "  1. While loop\n",
        "  2. For loop"
      ],
      "metadata": {
        "id": "faoi3Jzg-b06"
      }
    },
    {
      "cell_type": "markdown",
      "source": [
        "**While Loop:**"
      ],
      "metadata": {
        "id": "tx1OzdnoqiFy"
      }
    },
    {
      "cell_type": "code",
      "source": [
        "# creation of while loop\n",
        "i=1\n",
        "while i<=10:\n",
        "  print(i)\n",
        "  i=i+1"
      ],
      "metadata": {
        "colab": {
          "base_uri": "https://localhost:8080/"
        },
        "id": "nAPf8rMrqg21",
        "outputId": "7e2d5191-e28d-4d15-a12e-fb5acff6455a"
      },
      "execution_count": null,
      "outputs": [
        {
          "output_type": "stream",
          "name": "stdout",
          "text": [
            "1\n",
            "2\n",
            "3\n",
            "4\n",
            "5\n",
            "6\n",
            "7\n",
            "8\n",
            "9\n",
            "10\n"
          ]
        }
      ]
    },
    {
      "cell_type": "code",
      "source": [
        "#stop:break\n",
        "i=1\n",
        "while i<=10:\n",
        "  print(i)\n",
        "  if i==5:\n",
        "    break\n",
        "  i=i+1"
      ],
      "metadata": {
        "id": "-KpvNJXqq1GL"
      },
      "execution_count": null,
      "outputs": []
    },
    {
      "cell_type": "code",
      "source": [
        "#Skip:continue\n",
        "i=1\n",
        "while i<=10:\n",
        "  i=i+1\n",
        "  if i==5:\n",
        "    break\n",
        "  print(i)"
      ],
      "metadata": {
        "colab": {
          "base_uri": "https://localhost:8080/"
        },
        "id": "qVF4qsh_q7wa",
        "outputId": "94be8d25-3fc6-45b2-8eb1-c26bd37e205e"
      },
      "execution_count": null,
      "outputs": [
        {
          "output_type": "stream",
          "name": "stdout",
          "text": [
            "2\n",
            "3\n",
            "4\n"
          ]
        }
      ]
    },
    {
      "cell_type": "code",
      "source": [
        "#while loop with else condition **(Note: else condition is not work with thw loop which has break keyword)**\n",
        "i=1\n",
        "while i<=10:\n",
        "  print(i)\n",
        "  i=i+1\n",
        "else:\n",
        "  print(\"loop completed\")\n"
      ],
      "metadata": {
        "id": "JVX_FBWurAUL"
      },
      "execution_count": null,
      "outputs": []
    },
    {
      "cell_type": "markdown",
      "source": [
        "**For Loop:**"
      ],
      "metadata": {
        "id": "cJFIH2igrRfN"
      }
    },
    {
      "cell_type": "code",
      "source": [
        "#For Loop in list:\n",
        "a=[1,2,3,4,5]\n",
        "for i in a:\n",
        "  print(i)\n",
        "for i in a:\n",
        "  print(i*2)"
      ],
      "metadata": {
        "colab": {
          "base_uri": "https://localhost:8080/"
        },
        "id": "rvu31oGCrVSL",
        "outputId": "a4581425-6abc-4b52-b2b5-bab3e99cb2a3"
      },
      "execution_count": null,
      "outputs": [
        {
          "output_type": "stream",
          "name": "stdout",
          "text": [
            "1\n",
            "2\n",
            "3\n",
            "4\n",
            "5\n",
            "2\n",
            "4\n",
            "6\n",
            "8\n",
            "10\n"
          ]
        }
      ]
    },
    {
      "cell_type": "code",
      "source": [
        "#For loop in string\n",
        "name=\"Allen\"\n",
        "for i in name:\n",
        "  print(i)\n",
        "\n",
        "print(type(name))"
      ],
      "metadata": {
        "colab": {
          "base_uri": "https://localhost:8080/"
        },
        "id": "z6PYAjS_rh_C",
        "outputId": "d8a7a8e4-c78e-40f8-fc5b-3bdd943890b3"
      },
      "execution_count": null,
      "outputs": [
        {
          "output_type": "stream",
          "name": "stdout",
          "text": [
            "A\n",
            "l\n",
            "l\n",
            "e\n",
            "n\n",
            "<class 'str'>\n"
          ]
        }
      ]
    },
    {
      "cell_type": "code",
      "source": [
        "#For loop with break keyword\n",
        "name=[10,20,30,40,50]\n",
        "for i in name:\n",
        "  print(i)\n",
        "  if i==40:\n",
        "    break"
      ],
      "metadata": {
        "colab": {
          "base_uri": "https://localhost:8080/"
        },
        "id": "YftD7EHLrnF_",
        "outputId": "9575018e-a51a-4f8e-8318-fcc2d84489d9"
      },
      "execution_count": null,
      "outputs": [
        {
          "output_type": "stream",
          "name": "stdout",
          "text": [
            "10\n",
            "20\n",
            "30\n",
            "40\n"
          ]
        }
      ]
    },
    {
      "cell_type": "code",
      "source": [
        "# for loop with continue\n",
        "name=[10,20,30,40,50]\n",
        "for i in name:\n",
        "  if i==40:\n",
        "    continue\n",
        "  print(i)"
      ],
      "metadata": {
        "colab": {
          "base_uri": "https://localhost:8080/"
        },
        "id": "B1vJ8dBYr8FN",
        "outputId": "f7932d53-bca0-45eb-8633-63c7a75baf41"
      },
      "execution_count": null,
      "outputs": [
        {
          "output_type": "stream",
          "name": "stdout",
          "text": [
            "10\n",
            "20\n",
            "30\n",
            "50\n"
          ]
        }
      ]
    },
    {
      "cell_type": "code",
      "source": [
        "#For loop with Else  **Note: else will not work with break**\n",
        "name=[10,20,30,40,50]\n",
        "for i in name:\n",
        "  print(i)\n",
        "else:\n",
        "  print(\"loop completed\")\n"
      ],
      "metadata": {
        "id": "SAgvyCRPsCiJ"
      },
      "execution_count": null,
      "outputs": []
    },
    {
      "cell_type": "code",
      "source": [
        "#range()\n",
        "for _ in range(10):\n",
        "  print(_)"
      ],
      "metadata": {
        "colab": {
          "base_uri": "https://localhost:8080/"
        },
        "id": "67rG3WrcsTcW",
        "outputId": "2616c102-c22e-4d8e-f1ad-7b9958205901"
      },
      "execution_count": null,
      "outputs": [
        {
          "output_type": "stream",
          "name": "stdout",
          "text": [
            "0\n",
            "1\n",
            "2\n",
            "3\n",
            "4\n",
            "5\n",
            "6\n",
            "7\n",
            "8\n",
            "9\n"
          ]
        }
      ]
    },
    {
      "cell_type": "code",
      "source": [
        "# we can able to change the first value and incrementbvakue in range but the ending value must be n-1\n",
        "for i in range(1,10,2):\n",
        "  print(i)"
      ],
      "metadata": {
        "colab": {
          "base_uri": "https://localhost:8080/"
        },
        "id": "N_xANlY-sW1x",
        "outputId": "1705b446-555b-4000-d00b-6b10e759de57"
      },
      "execution_count": null,
      "outputs": [
        {
          "output_type": "stream",
          "name": "stdout",
          "text": [
            "1\n",
            "3\n",
            "5\n",
            "7\n",
            "9\n"
          ]
        }
      ]
    },
    {
      "cell_type": "code",
      "source": [
        "#Nested Loop\n",
        "color=[\"Red\",\"Green\",\"Blue\"]\n",
        "fruits=[\"Mango\",\"Apple\",\"Grapes\"]\n",
        "for i in color:\n",
        "  for j in fruits:\n",
        "    print(i,j)"
      ],
      "metadata": {
        "id": "0zYQ6Kn7skQd"
      },
      "execution_count": null,
      "outputs": []
    },
    {
      "cell_type": "markdown",
      "source": [
        "# Functions"
      ],
      "metadata": {
        "id": "SpvYYrJTG_Jh"
      }
    },
    {
      "cell_type": "markdown",
      "source": [
        "**Functions**\n",
        "\n",
        "call the function to run a block of code\n",
        "\n",
        "Used for DRY(Don't Repeat Yourself) code"
      ],
      "metadata": {
        "id": "e1hoP1oZs7C8"
      }
    },
    {
      "cell_type": "code",
      "source": [
        "#Defining a function\n",
        "def add():\n",
        "  a=10\n",
        "  b=20\n",
        "  c=a+b\n",
        "  print(c)\n",
        "#Calling a function\n",
        "add()"
      ],
      "metadata": {
        "id": "I7clhjVxs54j"
      },
      "execution_count": null,
      "outputs": []
    },
    {
      "cell_type": "code",
      "source": [
        "#returning function\n",
        "def add():\n",
        "  a=10\n",
        "  b=20\n",
        "  c=a+b\n",
        "  return c\n",
        "print(add())"
      ],
      "metadata": {
        "id": "t-oYWFkPtQuf"
      },
      "execution_count": null,
      "outputs": []
    },
    {
      "cell_type": "code",
      "source": [
        "#Returning multiple values\n",
        "def add():\n",
        "  a=10\n",
        "  b=20\n",
        "  c=a+b\n",
        "  return a,b,c\n",
        "print(add())"
      ],
      "metadata": {
        "id": "0XHS-8dmtdZU"
      },
      "execution_count": null,
      "outputs": []
    },
    {
      "cell_type": "code",
      "source": [
        "#Functions are first class objects-means that assign them to variables\n",
        "def multiply(x,y):\n",
        "  return x*y\n",
        "def apply(funct,x,y):\n",
        "  return funct(x,y)\n",
        "print(apply(multiply,3,4))"
      ],
      "metadata": {
        "colab": {
          "base_uri": "https://localhost:8080/"
        },
        "id": "DqseO9MCtw8j",
        "outputId": "b7647031-166f-47ed-9a78-827da3a7bc64"
      },
      "execution_count": null,
      "outputs": [
        {
          "output_type": "stream",
          "name": "stdout",
          "text": [
            "12\n"
          ]
        }
      ]
    },
    {
      "cell_type": "code",
      "source": [
        "#Arguments or Parameters\n",
        "def add(a,b):# Here a, b are formal parameters (usually called as parameters)\n",
        "  return a+b\n",
        "print(add(10,20)) #Here 10, 20 are the actual arguments(usually called as arguments)"
      ],
      "metadata": {
        "id": "m_bpNYktulIQ"
      },
      "execution_count": null,
      "outputs": []
    },
    {
      "cell_type": "code",
      "source": [
        "#function Passing the value by reference not a copy\n",
        "#for Mutable object\n",
        "def my_function(my_list):\n",
        "  my_list.append(10)\n",
        "l1=[1,2,3,4]\n",
        "my_function(l1)\n",
        "print(l1)\n",
        "#for immutable object\n",
        "def my_function(text):\n",
        "  text+='!'\n",
        "  return text\n",
        "message='Hello'\n",
        "print(my_function(message))\n",
        "print(message)\n"
      ],
      "metadata": {
        "colab": {
          "base_uri": "https://localhost:8080/"
        },
        "id": "e2hhY8ITvFdX",
        "outputId": "2d0b1d53-46f6-482f-de0a-63b308d8a8df"
      },
      "execution_count": null,
      "outputs": [
        {
          "output_type": "stream",
          "name": "stdout",
          "text": [
            "[1, 2, 3, 4, 10]\n",
            "Hello!\n",
            "Hello\n"
          ]
        }
      ]
    },
    {
      "cell_type": "code",
      "source": [
        "#Positional Arguments: number of arguments should equals to number of parameters\n",
        "def add(a,b):\n",
        "  return a+b\n",
        "print(add(10,6))"
      ],
      "metadata": {
        "colab": {
          "base_uri": "https://localhost:8080/"
        },
        "id": "DzTeA2ApvdTY",
        "outputId": "84f4eb6e-ccf7-4a05-ff89-a63a512e2df5"
      },
      "execution_count": null,
      "outputs": [
        {
          "output_type": "stream",
          "name": "stdout",
          "text": [
            "16\n"
          ]
        }
      ]
    },
    {
      "cell_type": "code",
      "source": [
        "#Arbitary Arguments:*args\n",
        "def func(*name):\n",
        "  for i in name:\n",
        "    print ('Hello ' +i)\n",
        "func(\"Allen !\",\"Vijay !\",\"Abishek !\")\n",
        "\n",
        "\n",
        "\n"
      ],
      "metadata": {
        "colab": {
          "base_uri": "https://localhost:8080/"
        },
        "id": "t5QDw9P8wapO",
        "outputId": "27746c92-6974-4df5-ccb2-43ac0bb10b7a"
      },
      "execution_count": null,
      "outputs": [
        {
          "output_type": "stream",
          "name": "stdout",
          "text": [
            "Hello Allen !\n",
            "Hello Vijay !\n",
            "Hello Abishek !\n"
          ]
        }
      ]
    },
    {
      "cell_type": "code",
      "source": [
        "#Keyword arguments:\n",
        "def add(a,b):\n",
        "  return a+b\n",
        "print(add(a=10,b=20))"
      ],
      "metadata": {
        "colab": {
          "base_uri": "https://localhost:8080/"
        },
        "id": "iPBrkK2qxX5t",
        "outputId": "cca323a3-d6bb-4338-91b1-b5f8f224870e"
      },
      "execution_count": null,
      "outputs": [
        {
          "output_type": "stream",
          "name": "stdout",
          "text": [
            "30\n"
          ]
        }
      ]
    },
    {
      "cell_type": "code",
      "source": [
        "#**kwargs -use when you don't know the number of arguments\n",
        "def func(**name):\n",
        "  for i in name.values():\n",
        "    print ('Hello ' +i)\n",
        "func(a=\"Allen !\",b=\"Vijay !\",c=\"Abishek !\")\n"
      ],
      "metadata": {
        "id": "dqQ7ru1Nxir5"
      },
      "execution_count": null,
      "outputs": []
    },
    {
      "cell_type": "code",
      "source": [
        "#when you pass a grp of values in function it considered as a single object like:List, Set, Tuple\n",
        "def func(number):\n",
        "  print(number)\n",
        "func([10, 20, 30, 40, 50])"
      ],
      "metadata": {
        "colab": {
          "base_uri": "https://localhost:8080/"
        },
        "id": "43ZQRNflx1Jj",
        "outputId": "0660d4a3-f073-475b-d4ab-beac5dbb732a"
      },
      "execution_count": null,
      "outputs": [
        {
          "output_type": "stream",
          "name": "stdout",
          "text": [
            "[10, 20, 30, 40, 50]\n"
          ]
        }
      ]
    },
    {
      "cell_type": "code",
      "source": [
        "#Default parameter values\n",
        "def add(a=10,b=20):\n",
        "  return a+b\n",
        "print(add())\n",
        "print(add(5,4))\n",
        "print(add(6))"
      ],
      "metadata": {
        "colab": {
          "base_uri": "https://localhost:8080/"
        },
        "id": "vzOBw6ZnyVls",
        "outputId": "f2273920-bc9b-44ea-e846-300a9a322b30"
      },
      "execution_count": null,
      "outputs": [
        {
          "output_type": "stream",
          "name": "stdout",
          "text": [
            "30\n",
            "9\n",
            "26\n"
          ]
        }
      ]
    },
    {
      "cell_type": "code",
      "source": [
        "'''Variable has scope\n",
        "      1. Global variable-Used inside and outside the function\n",
        "      2. Local variable - Used inside the function'''\n",
        "#Global variable\n",
        "a=10\n",
        "def add():\n",
        "  print(a)\n",
        "add()\n",
        "#Local variable\n",
        "def add():\n",
        "  a=5\n",
        "  print(a)\n",
        "add()\n",
        "print(a)# it print the value of above global variable. So, the local variable x=5 doesn't affect the global variable"
      ],
      "metadata": {
        "id": "Fb9ieIXrynfw"
      },
      "execution_count": null,
      "outputs": []
    },
    {
      "cell_type": "code",
      "source": [],
      "metadata": {
        "colab": {
          "base_uri": "https://localhost:8080/"
        },
        "id": "DVKWv8VqZ76g",
        "outputId": "6a39ed1a-a140-45ab-da34-5e24b1d5c975"
      },
      "execution_count": null,
      "outputs": [
        {
          "output_type": "stream",
          "name": "stdout",
          "text": [
            "5\n",
            "70\n"
          ]
        }
      ]
    },
    {
      "cell_type": "code",
      "source": [
        "#If you want the local variable to affect the global variable: Use \"global\" Keyword\n",
        "a=10\n",
        "print(a)\n",
        "def add():\n",
        "  global a\n",
        "  a=5\n",
        "  print(a)\n",
        "add()\n",
        "print(a)"
      ],
      "metadata": {
        "colab": {
          "base_uri": "https://localhost:8080/"
        },
        "id": "r88ozrp3zVuX",
        "outputId": "27e07c97-f4c0-428c-bf85-7b54858364d1"
      },
      "execution_count": null,
      "outputs": [
        {
          "output_type": "stream",
          "name": "stdout",
          "text": [
            "10\n",
            "5\n",
            "5\n"
          ]
        }
      ]
    },
    {
      "cell_type": "code",
      "source": [
        "#Recursion Function: call the function itself\n",
        "def factorial(x):\n",
        "  if x==1:\n",
        "    return 1\n",
        "  else:\n",
        "    return x*factorial(x-1)\n",
        "print(factorial(5))"
      ],
      "metadata": {
        "colab": {
          "base_uri": "https://localhost:8080/"
        },
        "id": "btG7_cZbz36h",
        "outputId": "f0503e35-ba82-4f31-d23c-3ea3385b73d0"
      },
      "execution_count": null,
      "outputs": [
        {
          "output_type": "stream",
          "name": "stdout",
          "text": [
            "120\n"
          ]
        }
      ]
    }
  ]
}