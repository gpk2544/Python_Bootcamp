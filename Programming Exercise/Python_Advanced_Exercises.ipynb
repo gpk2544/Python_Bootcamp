{
  "nbformat": 4,
  "nbformat_minor": 0,
  "metadata": {
    "colab": {
      "provenance": []
    },
    "kernelspec": {
      "name": "python3",
      "display_name": "Python 3"
    },
    "language_info": {
      "name": "python"
    }
  },
  "cells": [
    {
      "cell_type": "markdown",
      "source": [
        " 1. Write a Python program to print prime numbers up to n.\n",
        "\n",
        " 2. Write a Python program that prints numbers from 1 to 100. For multiples of three, print “Fizz,”\n",
        " for multiples of five, print “Buzz,” and for multiples of both three and five, print “FizzBuzz.”\n",
        "\n",
        " 3. Write a Python program to check whether a 3-digit number is equal to the sum of the cubes of\n",
        " its digits.\n",
        "\n",
        " 4. Write a Python function to check if a given string is a palindrome.\n",
        "\n",
        " 5. Write a Python program to print stars in a pyramid scheme using a while loop"
      ],
      "metadata": {
        "id": "DE_Ims7BAZEJ"
      }
    },
    {
      "cell_type": "code",
      "source": [
        "def print_primes(n):\n",
        "    for num in range(2, n + 1):\n",
        "        prime = True\n",
        "        for i in range(2, int(num**0.5) + 1):\n",
        "            if num % i == 0:\n",
        "                prime = False\n",
        "                break\n",
        "        if prime:\n",
        "            print(num)\n",
        "\n",
        "n = int(input(\"Enter a number: \"))\n",
        "print_primes(n)\n"
      ],
      "metadata": {
        "colab": {
          "base_uri": "https://localhost:8080/"
        },
        "id": "xiTRehiAAmBH",
        "outputId": "43c397e7-a8e8-44b3-de64-d72d7c35ddc1"
      },
      "execution_count": 1,
      "outputs": [
        {
          "output_type": "stream",
          "name": "stdout",
          "text": [
            "Enter a number: 5\n",
            "2\n",
            "3\n",
            "5\n"
          ]
        }
      ]
    },
    {
      "cell_type": "code",
      "source": [
        "for i in range(1, 101):\n",
        "    if i % 3 == 0 and i % 5 == 0:\n",
        "        print(\"FizzBuzz\")\n",
        "    elif i % 3 == 0:\n",
        "        print(\"Fizz\")\n",
        "    elif i % 5 == 0:\n",
        "        print(\"Buzz\")\n",
        "    else:\n",
        "        print(i)\n"
      ],
      "metadata": {
        "colab": {
          "base_uri": "https://localhost:8080/"
        },
        "id": "F3HZdRrPAtsg",
        "outputId": "15b35767-4e28-45ff-b63d-9cdd12c3e244"
      },
      "execution_count": 2,
      "outputs": [
        {
          "output_type": "stream",
          "name": "stdout",
          "text": [
            "1\n",
            "2\n",
            "Fizz\n",
            "4\n",
            "Buzz\n",
            "Fizz\n",
            "7\n",
            "8\n",
            "Fizz\n",
            "Buzz\n",
            "11\n",
            "Fizz\n",
            "13\n",
            "14\n",
            "FizzBuzz\n",
            "16\n",
            "17\n",
            "Fizz\n",
            "19\n",
            "Buzz\n",
            "Fizz\n",
            "22\n",
            "23\n",
            "Fizz\n",
            "Buzz\n",
            "26\n",
            "Fizz\n",
            "28\n",
            "29\n",
            "FizzBuzz\n",
            "31\n",
            "32\n",
            "Fizz\n",
            "34\n",
            "Buzz\n",
            "Fizz\n",
            "37\n",
            "38\n",
            "Fizz\n",
            "Buzz\n",
            "41\n",
            "Fizz\n",
            "43\n",
            "44\n",
            "FizzBuzz\n",
            "46\n",
            "47\n",
            "Fizz\n",
            "49\n",
            "Buzz\n",
            "Fizz\n",
            "52\n",
            "53\n",
            "Fizz\n",
            "Buzz\n",
            "56\n",
            "Fizz\n",
            "58\n",
            "59\n",
            "FizzBuzz\n",
            "61\n",
            "62\n",
            "Fizz\n",
            "64\n",
            "Buzz\n",
            "Fizz\n",
            "67\n",
            "68\n",
            "Fizz\n",
            "Buzz\n",
            "71\n",
            "Fizz\n",
            "73\n",
            "74\n",
            "FizzBuzz\n",
            "76\n",
            "77\n",
            "Fizz\n",
            "79\n",
            "Buzz\n",
            "Fizz\n",
            "82\n",
            "83\n",
            "Fizz\n",
            "Buzz\n",
            "86\n",
            "Fizz\n",
            "88\n",
            "89\n",
            "FizzBuzz\n",
            "91\n",
            "92\n",
            "Fizz\n",
            "94\n",
            "Buzz\n",
            "Fizz\n",
            "97\n",
            "98\n",
            "Fizz\n",
            "Buzz\n"
          ]
        }
      ]
    },
    {
      "cell_type": "code",
      "source": [
        "def is_armstrong_number(num):\n",
        "    sum_of_cubes = sum(int(digit) ** 3 for digit in str(num))\n",
        "    return num == sum_of_cubes\n",
        "\n",
        "num = int(input(\"Enter a 3-digit number: \"))\n",
        "if is_armstrong_number(num):\n",
        "    print(f\"{num} is an Armstrong number\")\n",
        "else:\n",
        "    print(f\"{num} is not an Armstrong number\")\n"
      ],
      "metadata": {
        "colab": {
          "base_uri": "https://localhost:8080/"
        },
        "id": "ar5Btqp6AwFd",
        "outputId": "b4791fd3-226c-4ec2-e220-a46f65a5fd8f"
      },
      "execution_count": 3,
      "outputs": [
        {
          "output_type": "stream",
          "name": "stdout",
          "text": [
            "Enter a 3-digit number: 1331\n",
            "1331 is not an Armstrong number\n"
          ]
        }
      ]
    },
    {
      "cell_type": "code",
      "source": [
        "def is_palindrome(s):\n",
        "    s = s.lower().replace(\" \", \"\")\n",
        "    return s == s[::-1]\n",
        "\n",
        "string = input(\"Enter a string: \")\n",
        "if is_palindrome(string):\n",
        "    print(f\"'{string}' is a palindrome\")\n",
        "else:\n",
        "    print(f\"'{string}' is not a palindrome\")\n"
      ],
      "metadata": {
        "colab": {
          "base_uri": "https://localhost:8080/"
        },
        "id": "nyHzGuUcA0EG",
        "outputId": "29660532-d6e0-4b7c-8bfd-db0672421331"
      },
      "execution_count": 4,
      "outputs": [
        {
          "output_type": "stream",
          "name": "stdout",
          "text": [
            "Enter a string: malayalam\n",
            "'malayalam' is a palindrome\n"
          ]
        }
      ]
    },
    {
      "cell_type": "code",
      "source": [
        "def print_pyramid(rows):\n",
        "    i = 0\n",
        "    while i < rows:\n",
        "        print(' ' * (rows - i - 1) + '* ' * (i + 1))\n",
        "        i += 1\n",
        "\n",
        "rows = int(input(\"Enter the number of rows: \"))\n",
        "print_pyramid(rows)\n"
      ],
      "metadata": {
        "colab": {
          "base_uri": "https://localhost:8080/"
        },
        "id": "NSa0dTg3A26S",
        "outputId": "35274453-24fb-44eb-d173-c02bdb661528"
      },
      "execution_count": 5,
      "outputs": [
        {
          "output_type": "stream",
          "name": "stdout",
          "text": [
            "Enter the number of rows: 7\n",
            "      * \n",
            "     * * \n",
            "    * * * \n",
            "   * * * * \n",
            "  * * * * * \n",
            " * * * * * * \n",
            "* * * * * * * \n"
          ]
        }
      ]
    }
  ]
}